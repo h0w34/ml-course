{
  "cells": [
    {
      "cell_type": "markdown",
      "metadata": {
        "id": "EQEeXjrGcJuL"
      },
      "source": [
        "## week0_09 practice: PyTorch practice, hints and Dataloaders"
      ]
    },
    {
      "cell_type": "markdown",
      "metadata": {
        "id": "s8GDFC2GcJuS"
      },
      "source": [
        "Credits:\n",
        "* First part is based on YSDA [Practical RL course week04 materials](https://github.com/yandexdataschool/Practical_RL/tree/master/week04_%5Brecap%5D_deep_learning).\n",
        "* Second part is based on PyTorch official tutorials and [this kaggle kernel](https://www.kaggle.com/pinocookie/pytorch-dataset-and-dataloader)\n",
        "* Third part is based on PyTorch tutorial by [Stanford CS 231n course](http://cs231n.stanford.edu)"
      ]
    },
    {
      "cell_type": "markdown",
      "metadata": {
        "id": "r_wzRKLwcJuV"
      },
      "source": [
        "![img](https://pytorch.org/tutorials/_static/pytorch-logo-dark.svg)\n",
        "\n",
        "__This notebook__ will remind you how to use pytorch low and high-level core. You can install it [here](http://pytorch.org/).\n",
        "\n",
        "__Pytorch feels__ differently than other frameworks (like tensorflow/theano) on almost every level. TensorFlow makes your code live in two \"worlds\" simultaneously:  symbolic graphs and actual tensors. First you declare a symbolic \"recipe\" of how to get from inputs to outputs, then feed it with actual minibatches of data.  In pytorch, __there's only one world__: all tensors have a numeric value.\n",
        "\n",
        "You compute outputs on the fly without pre-declaring anything. The code looks exactly as in pure numpy with one exception: pytorch computes gradients for you. And can run stuff on GPU. And has a number of pre-implemented building blocks for your neural nets. [And a few more things.](https://medium.com/towards-data-science/pytorch-vs-tensorflow-spotting-the-difference-25c75777377b)\n",
        "\n",
        "Let's dive into it!"
      ]
    },
    {
      "cell_type": "code",
      "execution_count": 2,
      "metadata": {
        "ExecuteTime": {
          "end_time": "2020-02-28T00:59:42.103233Z",
          "start_time": "2020-02-28T00:59:42.099338Z"
        },
        "id": "dny4U97JcJuZ"
      },
      "outputs": [],
      "source": [
        "import numpy as np # linear algebra\n",
        "import pandas as pd # data processing, CSV file I/O (e.g. pd.read_csv)\n",
        "import matplotlib.pyplot as plt\n",
        "\n",
        "import torch\n",
        "from torch.utils.data import DataLoader, Dataset, Subset\n",
        "import torchvision\n",
        "from torchvision import transforms"
      ]
    },
    {
      "cell_type": "markdown",
      "metadata": {
        "id": "QUZa3InzcJue"
      },
      "source": [
        "### Task 1: Tensormancy\n",
        "\n",
        "__1.1 The [_disclaimer_](https://gist.githubusercontent.com/justheuristic/e2c1fa28ca02670cabc42cacf3902796/raw/fd3d935cef63a01b85ed2790b5c11c370245cbd7/stddisclaimer.h)__\n",
        "\n",
        "Let's write another function, this time in polar coordinates:\n",
        "$$\\rho(\\theta) = (1 + 0.9 \\cdot cos (6 \\cdot \\theta) ) \\cdot (1 + 0.01 \\cdot cos(24 \\cdot \\theta)) \\cdot (0.5 + 0.05 \\cdot cos(200 \\cdot \\theta)) \\cdot (10 + sin(10 \\cdot \\theta))$$\n",
        "\n",
        "\n",
        "Then convert it into cartesian coordinates ([howto](http://www.mathsisfun.com/polar-cartesian-coordinates.html)) and plot the results.\n",
        "\n",
        "Use torch tensors only: no lists, loops, numpy arrays, etc."
      ]
    },
    {
      "cell_type": "code",
      "execution_count": 3,
      "metadata": {
        "ExecuteTime": {
          "end_time": "2020-02-28T00:13:20.890514Z",
          "start_time": "2020-02-28T00:13:20.639022Z"
        },
        "id": "bRskNFIncJug",
        "outputId": "78cec106-13ed-464a-a4a8-e691ecec4dbc",
        "colab": {
          "base_uri": "https://localhost:8080/",
          "height": 53
        }
      },
      "outputs": [
        {
          "output_type": "execute_result",
          "data": {
            "text/plain": [
              "<Figure size 600x600 with 0 Axes>"
            ]
          },
          "metadata": {},
          "execution_count": 3
        },
        {
          "output_type": "display_data",
          "data": {
            "text/plain": [
              "<Figure size 600x600 with 0 Axes>"
            ]
          },
          "metadata": {}
        }
      ],
      "source": [
        "theta = torch.linspace(-np.pi, np.pi, steps=1000)\n",
        "\n",
        "# compute rho(theta) as per formula above\n",
        "rho = 5### YOUR CODE HERE\n",
        "\n",
        "# Now convert polar (rho, theta) pairs into cartesian (x,y) to plot them.\n",
        "x = 6### YOUR CODE HERE\n",
        "y = 7### YOUR CODE HERE\n",
        "\n",
        "\n",
        "plt.figure(figsize=(6, 6))\n",
        "#plt.fill(x.numpy(), y.numpy(), color='red')\n",
        "#plt.grid()"
      ]
    },
    {
      "cell_type": "markdown",
      "metadata": {
        "id": "nqVaWAcQcJuj"
      },
      "source": [
        "### Task 2: Using the Dataloader"
      ]
    },
    {
      "cell_type": "code",
      "execution_count": 4,
      "metadata": {
        "ExecuteTime": {
          "end_time": "2020-02-28T00:13:20.896055Z",
          "start_time": "2020-02-28T00:13:20.893241Z"
        },
        "id": "cXZHoKHOcJul"
      },
      "outputs": [],
      "source": [
        "from torch import nn\n",
        "from torch.nn import functional as F"
      ]
    },
    {
      "cell_type": "code",
      "execution_count": 5,
      "metadata": {
        "ExecuteTime": {
          "end_time": "2020-02-28T00:13:21.223097Z",
          "start_time": "2020-02-28T00:13:21.220643Z"
        },
        "id": "EFzSTRH4cJuv",
        "outputId": "b001c54b-2571-4f70-8771-b5bea4b3aed3",
        "colab": {
          "base_uri": "https://localhost:8080/"
        }
      },
      "outputs": [
        {
          "output_type": "stream",
          "name": "stdout",
          "text": [
            "--2024-03-25 10:31:30--  https://github.com/h0w34/ml-course/raw/master/week0_08_dropout_batchnorm/notmnist.py\n",
            "Resolving github.com (github.com)... 140.82.113.3\n",
            "Connecting to github.com (github.com)|140.82.113.3|:443... connected.\n",
            "HTTP request sent, awaiting response... 302 Found\n",
            "Location: https://raw.githubusercontent.com/h0w34/ml-course/master/week0_08_dropout_batchnorm/notmnist.py [following]\n",
            "--2024-03-25 10:31:30--  https://raw.githubusercontent.com/h0w34/ml-course/master/week0_08_dropout_batchnorm/notmnist.py\n",
            "Resolving raw.githubusercontent.com (raw.githubusercontent.com)... 185.199.108.133, 185.199.111.133, 185.199.110.133, ...\n",
            "Connecting to raw.githubusercontent.com (raw.githubusercontent.com)|185.199.108.133|:443... connected.\n",
            "HTTP request sent, awaiting response... 200 OK\n",
            "Length: 1799 (1.8K) [text/plain]\n",
            "Saving to: ‘notmnist.py’\n",
            "\n",
            "notmnist.py         100%[===================>]   1.76K  --.-KB/s    in 0s      \n",
            "\n",
            "2024-03-25 10:31:30 (32.4 MB/s) - ‘notmnist.py’ saved [1799/1799]\n",
            "\n"
          ]
        }
      ],
      "source": [
        "!wget https://github.com/h0w34/ml-course/raw/master/week0_08_dropout_batchnorm/notmnist.py"
      ]
    },
    {
      "cell_type": "code",
      "execution_count": 6,
      "metadata": {
        "ExecuteTime": {
          "end_time": "2020-02-28T00:13:24.681345Z",
          "start_time": "2020-02-28T00:13:21.715775Z"
        },
        "id": "tWNhPDFXcJuy",
        "outputId": "5118f25c-ec98-4fe0-c6ef-9c4ed16ccfd1",
        "colab": {
          "base_uri": "https://localhost:8080/"
        }
      },
      "outputs": [
        {
          "output_type": "stream",
          "name": "stdout",
          "text": [
            "Downloading data...\n",
            "Extracting ...\n",
            "Parsing...\n",
            "found broken img: ./notMNIST_small/A/RGVtb2NyYXRpY2FCb2xkT2xkc3R5bGUgQm9sZC50dGY=.png [it's ok if <10 images are broken]\n",
            "found broken img: ./notMNIST_small/F/Q3Jvc3NvdmVyIEJvbGRPYmxpcXVlLnR0Zg==.png [it's ok if <10 images are broken]\n",
            "Done\n"
          ]
        }
      ],
      "source": [
        "from notmnist import load_notmnist\n",
        "X_train, y_train, X_test, y_test = load_notmnist()"
      ]
    },
    {
      "cell_type": "code",
      "execution_count": 7,
      "metadata": {
        "ExecuteTime": {
          "end_time": "2020-02-28T08:04:08.525398Z",
          "start_time": "2020-02-28T08:04:08.519240Z"
        },
        "id": "hKD1C1DycJu1"
      },
      "outputs": [],
      "source": [
        "class DatasetMNIST(Dataset):\n",
        "    def __init__(self, path='./notMNIST_small', letters='ABCDEFGHIJ', transform=None):\n",
        "        self.data, self.labels, _ ,_  = load_notmnist(path=path, letters=letters, test_size=0)\n",
        "        self.transform = transform\n",
        "\n",
        "    def __len__(self):\n",
        "        return len(self.data)\n",
        "\n",
        "    def __getitem__(self, index):\n",
        "        # load image as ndarray type (Height * Width * Channels)\n",
        "        # be carefull for converting dtype to np.uint8 [Unsigned integer (0 to 255)]\n",
        "        # in this example, i don't use ToTensor() method of torchvision.transforms\n",
        "        # so you can convert numpy ndarray shape to tensor in PyTorch (H, W, C) --> (C, H, W)\n",
        "        image = self.data[index].transpose(1, 2, 0)\n",
        "        label = self.labels[index]\n",
        "\n",
        "        if self.transform is not None:\n",
        "            image = self.transform(image)\n",
        "\n",
        "        return image, label"
      ]
    },
    {
      "cell_type": "code",
      "execution_count": 8,
      "metadata": {
        "ExecuteTime": {
          "end_time": "2020-02-28T08:04:19.890914Z",
          "start_time": "2020-02-28T08:04:19.336026Z"
        },
        "id": "4wr6PI3NcJu4",
        "outputId": "17a17f87-6e66-40da-96bc-e01cdf819f66",
        "colab": {
          "base_uri": "https://localhost:8080/"
        }
      },
      "outputs": [
        {
          "output_type": "stream",
          "name": "stdout",
          "text": [
            "Parsing...\n",
            "found broken img: ./notMNIST_small/A/RGVtb2NyYXRpY2FCb2xkT2xkc3R5bGUgQm9sZC50dGY=.png [it's ok if <10 images are broken]\n",
            "Done\n"
          ]
        }
      ],
      "source": [
        "full_dataset = DatasetMNIST('./notMNIST_small', 'AB', transform=None)"
      ]
    },
    {
      "cell_type": "code",
      "source": [
        "full_dataset[0][0].shape"
      ],
      "metadata": {
        "id": "8YJipRjOeHBx",
        "outputId": "95ad4f9d-34c1-4890-b424-b2b88c058916",
        "colab": {
          "base_uri": "https://localhost:8080/"
        }
      },
      "execution_count": 9,
      "outputs": [
        {
          "output_type": "execute_result",
          "data": {
            "text/plain": [
              "(28, 28, 1)"
            ]
          },
          "metadata": {},
          "execution_count": 9
        }
      ]
    },
    {
      "cell_type": "code",
      "execution_count": 10,
      "metadata": {
        "ExecuteTime": {
          "end_time": "2020-02-28T08:05:36.271686Z",
          "start_time": "2020-02-28T08:05:36.267914Z"
        },
        "id": "WYetPsX7cJu6",
        "outputId": "ca725b94-200d-40e3-f925-03cb9a62a0d6",
        "colab": {
          "base_uri": "https://localhost:8080/"
        }
      },
      "outputs": [
        {
          "output_type": "stream",
          "name": "stdout",
          "text": [
            "(28, 28, 1)\n",
            "<class 'numpy.ndarray'>\n"
          ]
        }
      ],
      "source": [
        "# we can access and get data with index by __getitem__(index)\n",
        "img, lab = full_dataset.__getitem__(0)\n",
        "\n",
        "print(img.shape)\n",
        "print(type(img))"
      ]
    },
    {
      "cell_type": "code",
      "execution_count": 11,
      "metadata": {
        "ExecuteTime": {
          "end_time": "2020-02-28T08:05:39.406582Z",
          "start_time": "2020-02-28T08:05:39.402397Z"
        },
        "id": "2zgDs1UNcJu7",
        "outputId": "a36ebe62-25c2-481e-b9dd-e472c204f164",
        "colab": {
          "base_uri": "https://localhost:8080/"
        }
      },
      "outputs": [
        {
          "output_type": "execute_result",
          "data": {
            "text/plain": [
              "torch.Size([1, 28, 28])"
            ]
          },
          "metadata": {},
          "execution_count": 11
        }
      ],
      "source": [
        "a = torchvision.transforms.ToTensor()\n",
        "\n",
        "a(img).shape"
      ]
    },
    {
      "cell_type": "code",
      "execution_count": 12,
      "metadata": {
        "ExecuteTime": {
          "end_time": "2020-02-28T00:13:37.378205Z",
          "start_time": "2020-02-28T00:13:37.115219Z"
        },
        "id": "n24XsQi-cJu9",
        "outputId": "9edb1167-bde9-425e-a5ff-0030cc3d14d6",
        "colab": {
          "base_uri": "https://localhost:8080/",
          "height": 308
        }
      },
      "outputs": [
        {
          "output_type": "display_data",
          "data": {
            "text/plain": [
              "<Figure size 640x480 with 2 Axes>"
            ],
            "image/png": "[encoded data removed]"
          },
          "metadata": {}
        }
      ],
      "source": [
        "inds = np.random.randint(len(full_dataset), size=2)\n",
        "\n",
        "for i in range(2):\n",
        "    plt.subplot(1, 2, i + 1)\n",
        "    plt.imshow(full_dataset[inds[i]][0].reshape([28,28]))\n",
        "    plt.title(str(full_dataset[inds[i]][1]))"
      ]
    },
    {
      "cell_type": "markdown",
      "metadata": {
        "id": "ON_Es_JrcJu-"
      },
      "source": [
        "#### To the DataLoader"
      ]
    },
    {
      "cell_type": "code",
      "execution_count": 13,
      "metadata": {
        "ExecuteTime": {
          "end_time": "2020-02-28T00:13:38.561437Z",
          "start_time": "2020-02-28T00:13:38.558371Z"
        },
        "id": "K_pD6KvCcJvA"
      },
      "outputs": [],
      "source": [
        "train_loader = DataLoader(full_dataset, batch_size=8, shuffle=True)"
      ]
    },
    {
      "cell_type": "markdown",
      "metadata": {
        "id": "m61N10Y3cJvB"
      },
      "source": [
        "We can use dataloader as iterator by using iter() function."
      ]
    },
    {
      "cell_type": "code",
      "execution_count": 14,
      "metadata": {
        "ExecuteTime": {
          "end_time": "2020-02-28T00:13:39.386457Z",
          "start_time": "2020-02-28T00:13:39.382386Z"
        },
        "id": "mG1Lsja_cJvD",
        "outputId": "b454f79d-0edf-4113-95ef-6aa0e499623d",
        "colab": {
          "base_uri": "https://localhost:8080/"
        }
      },
      "outputs": [
        {
          "output_type": "stream",
          "name": "stdout",
          "text": [
            "<class 'torch.utils.data.dataloader._SingleProcessDataLoaderIter'>\n"
          ]
        }
      ],
      "source": [
        "train_iter = iter(train_loader)\n",
        "print(type(train_iter))"
      ]
    },
    {
      "cell_type": "markdown",
      "metadata": {
        "id": "PAocVsJbcJvE"
      },
      "source": [
        "We can look at images and labels of batch size by extracting data `.next()` method."
      ]
    },
    {
      "cell_type": "code",
      "execution_count": 15,
      "metadata": {
        "ExecuteTime": {
          "end_time": "2020-02-28T00:13:40.508098Z",
          "start_time": "2020-02-28T00:13:40.502629Z"
        },
        "id": "Ffwjqpg2cJvE",
        "outputId": "62bc762e-8963-4322-923a-06cc9dd1bca3",
        "colab": {
          "base_uri": "https://localhost:8080/"
        }
      },
      "outputs": [
        {
          "output_type": "stream",
          "name": "stdout",
          "text": [
            "images shape on batch size = torch.Size([8, 28, 28, 1])\n",
            "labels shape on batch size = torch.Size([8])\n"
          ]
        }
      ],
      "source": [
        "# separate func not a method actually\n",
        "images, labels = next(train_iter)\n",
        "\n",
        "print('images shape on batch size = {}'.format(images.size()))\n",
        "print('labels shape on batch size = {}'.format(labels.size()))"
      ]
    },
    {
      "cell_type": "code",
      "execution_count": 16,
      "metadata": {
        "ExecuteTime": {
          "end_time": "2020-02-28T00:13:41.593728Z",
          "start_time": "2020-02-28T00:13:41.506364Z"
        },
        "id": "UCCOOlRQcJvF",
        "outputId": "39a35e8c-f5a5-4ac6-c83d-95cdfe0b8df3",
        "colab": {
          "base_uri": "https://localhost:8080/",
          "height": 142
        }
      },
      "outputs": [
        {
          "output_type": "stream",
          "name": "stderr",
          "text": [
            "WARNING:matplotlib.image:Clipping input data to the valid range for imshow with RGB data ([0..1] for floats or [0..255] for integers).\n"
          ]
        },
        {
          "output_type": "display_data",
          "data": {
            "text/plain": [
              "<Figure size 640x480 with 1 Axes>"
            ],
            "image/png": "[encoded data removed]"
          },
          "metadata": {}
        }
      ],
      "source": [
        "# make_grid takes tensor as arg\n",
        "# tensor : (batchsize, channels, height, width)\n",
        "grid = torchvision.utils.make_grid(images.permute([0, 3, 1, 2]))\n",
        "\n",
        "plt.imshow(grid.numpy().transpose((1, 2, 0)))\n",
        "plt.axis('off')\n",
        "plt.title(labels);"
      ]
    },
    {
      "cell_type": "markdown",
      "metadata": {
        "id": "9V0moXUlcJvG"
      },
      "source": [
        "And now with transformations:"
      ]
    },
    {
      "cell_type": "code",
      "execution_count": 17,
      "metadata": {
        "ExecuteTime": {
          "end_time": "2020-02-28T00:13:48.795066Z",
          "start_time": "2020-02-28T00:13:46.451771Z"
        },
        "id": "3rvQrHtVcJvI",
        "outputId": "a0a7e2ff-0043-4f88-b1e5-bc0ad7afec06",
        "colab": {
          "base_uri": "https://localhost:8080/"
        }
      },
      "outputs": [
        {
          "output_type": "stream",
          "name": "stdout",
          "text": [
            "Parsing...\n",
            "found broken img: ./notMNIST_small/A/RGVtb2NyYXRpY2FCb2xkT2xkc3R5bGUgQm9sZC50dGY=.png [it's ok if <10 images are broken]\n",
            "found broken img: ./notMNIST_small/F/Q3Jvc3NvdmVyIEJvbGRPYmxpcXVlLnR0Zg==.png [it's ok if <10 images are broken]\n",
            "Done\n"
          ]
        }
      ],
      "source": [
        "train_dataset_with_transform = DatasetMNIST(\n",
        "    transform=torchvision.transforms.ToTensor()\n",
        ")"
      ]
    },
    {
      "cell_type": "code",
      "execution_count": 18,
      "metadata": {
        "ExecuteTime": {
          "end_time": "2020-02-28T00:13:48.801336Z",
          "start_time": "2020-02-28T00:13:48.797410Z"
        },
        "id": "fMQCUy6QcJvJ",
        "outputId": "0ca1ae60-b887-49cf-af36-d1745baf7408",
        "colab": {
          "base_uri": "https://localhost:8080/"
        }
      },
      "outputs": [
        {
          "output_type": "stream",
          "name": "stdout",
          "text": [
            "image shape at the first row : torch.Size([1, 28, 28])\n"
          ]
        }
      ],
      "source": [
        "img, lab = train_dataset_with_transform.__getitem__(0)\n",
        "\n",
        "print('image shape at the first row : {}'.format(img.size()))"
      ]
    },
    {
      "cell_type": "code",
      "execution_count": 19,
      "metadata": {
        "ExecuteTime": {
          "end_time": "2020-02-28T00:13:52.064233Z",
          "start_time": "2020-02-28T00:13:52.057623Z"
        },
        "id": "14qlyjmxcJvL",
        "outputId": "0ef26ba1-0f7d-4758-f80f-c323141ee1d5",
        "colab": {
          "base_uri": "https://localhost:8080/"
        }
      },
      "outputs": [
        {
          "output_type": "stream",
          "name": "stdout",
          "text": [
            "<class 'torch.utils.data.dataloader._SingleProcessDataLoaderIter'>\n",
            "images shape on batch size = torch.Size([8, 1, 28, 28])\n",
            "labels shape on batch size = torch.Size([8])\n"
          ]
        }
      ],
      "source": [
        "train_loader_tr = DataLoader(train_dataset_with_transform, batch_size=8, shuffle=True)\n",
        "\n",
        "train_iter_tr = iter(train_loader_tr)\n",
        "print(type(train_iter_tr))\n",
        "\n",
        "images, labels = next(train_iter_tr)\n",
        "\n",
        "print('images shape on batch size = {}'.format(images.size()))\n",
        "print('labels shape on batch size = {}'.format(labels.size()))"
      ]
    },
    {
      "cell_type": "code",
      "execution_count": 20,
      "metadata": {
        "ExecuteTime": {
          "end_time": "2020-02-28T00:13:53.200621Z",
          "start_time": "2020-02-28T00:13:53.062965Z"
        },
        "id": "peVt_cgVcJvM",
        "outputId": "184e16ae-b2f0-4ce5-f21e-dc31fac6acb2",
        "colab": {
          "base_uri": "https://localhost:8080/",
          "height": 142
        }
      },
      "outputs": [
        {
          "output_type": "stream",
          "name": "stderr",
          "text": [
            "WARNING:matplotlib.image:Clipping input data to the valid range for imshow with RGB data ([0..1] for floats or [0..255] for integers).\n"
          ]
        },
        {
          "output_type": "display_data",
          "data": {
            "text/plain": [
              "<Figure size 640x480 with 1 Axes>"
            ],
            "image/png": "[encoded data removed]"
          },
          "metadata": {}
        }
      ],
      "source": [
        "grid = torchvision.utils.make_grid(images)\n",
        "\n",
        "plt.imshow(grid.numpy().transpose((1, 2, 0)))\n",
        "plt.axis('off')\n",
        "plt.title(labels.numpy());"
      ]
    },
    {
      "cell_type": "markdown",
      "metadata": {
        "id": "MNWgmg_kcJvN"
      },
      "source": [
        "### Composing several transformations"
      ]
    },
    {
      "cell_type": "markdown",
      "metadata": {
        "id": "jGBzVYYEcJvO"
      },
      "source": [
        "If you want to take data augmentation, you have to make List using `torchvision.transforms.Compose`\n",
        "\n",
        "```\n",
        "class Compose(object):\n",
        "    \"\"\"Composes several transforms together.\n",
        "    Args:\n",
        "        transforms (list of ``Transform`` objects): list of transforms to compose.\n",
        "    Example:\n",
        "        >>> transforms.Compose([\n",
        "        >>>     transforms.CenterCrop(10),\n",
        "        >>>     transforms.ToTensor(),\n",
        "        >>> ])\n",
        "    \"\"\"\n",
        "\n",
        "    def __init__(self, transforms):\n",
        "        self.transforms = transforms\n",
        "\n",
        "    def __call__(self, img):\n",
        "        for t in self.transforms:\n",
        "            img = t(img)\n",
        "        return img\n",
        "\n",
        "    def __repr__(self):\n",
        "        format_string = self.__class__.__name__ + '('\n",
        "        for t in self.transforms:\n",
        "            format_string += '\\n'\n",
        "            format_string += '    {0}'.format(t)\n",
        "        format_string += '\\n)'\n",
        "        return format_string\n",
        "```\n",
        "\n",
        "\n",
        "this function can convert some image by order within `__call__` method."
      ]
    },
    {
      "cell_type": "code",
      "execution_count": 21,
      "metadata": {
        "ExecuteTime": {
          "end_time": "2020-02-28T00:13:54.766219Z",
          "start_time": "2020-02-28T00:13:54.762711Z"
        },
        "id": "ImogNr6PcJvO"
      },
      "outputs": [],
      "source": [
        "class Flatten():\n",
        "    def __call__(self, pic):\n",
        "        return pic.flatten()\n",
        "\n",
        "    def __repr__(self):\n",
        "        return self.__class__.__name__ + '()'"
      ]
    },
    {
      "cell_type": "code",
      "execution_count": 22,
      "metadata": {
        "ExecuteTime": {
          "end_time": "2020-02-28T00:13:55.430127Z",
          "start_time": "2020-02-28T00:13:55.427338Z"
        },
        "id": "ISlr8dBLcJvP"
      },
      "outputs": [],
      "source": [
        "a = Flatten()"
      ]
    },
    {
      "cell_type": "code",
      "execution_count": 23,
      "metadata": {
        "ExecuteTime": {
          "end_time": "2020-02-28T00:13:56.147330Z",
          "start_time": "2020-02-28T00:13:56.143060Z"
        },
        "id": "WkOG3KVIcJvQ",
        "outputId": "34f74d73-3cf7-4959-fa04-ea45ef9dc045",
        "colab": {
          "base_uri": "https://localhost:8080/"
        }
      },
      "outputs": [
        {
          "output_type": "execute_result",
          "data": {
            "text/plain": [
              "torch.Size([784])"
            ]
          },
          "metadata": {},
          "execution_count": 23
        }
      ],
      "source": [
        "a(img).shape"
      ]
    },
    {
      "cell_type": "code",
      "execution_count": 24,
      "metadata": {
        "ExecuteTime": {
          "end_time": "2020-02-28T00:13:56.918185Z",
          "start_time": "2020-02-28T00:13:56.915283Z"
        },
        "id": "sO_VP5dQcJvR"
      },
      "outputs": [],
      "source": [
        "new_transform = torchvision.transforms.Compose([\n",
        "    torchvision.transforms.ToTensor(),\n",
        "    Flatten()\n",
        "])"
      ]
    },
    {
      "cell_type": "markdown",
      "metadata": {
        "id": "Xhyf5945cJvT"
      },
      "source": [
        "# Putting all together"
      ]
    },
    {
      "cell_type": "code",
      "execution_count": 25,
      "metadata": {
        "ExecuteTime": {
          "end_time": "2020-02-28T09:37:37.781950Z",
          "start_time": "2020-02-28T09:37:37.779388Z"
        },
        "id": "wi3SEYrXcJvU"
      },
      "outputs": [],
      "source": [
        "import time\n",
        "\n",
        "from IPython.display import clear_output"
      ]
    },
    {
      "cell_type": "code",
      "execution_count": 26,
      "metadata": {
        "ExecuteTime": {
          "end_time": "2020-02-28T00:56:29.075866Z",
          "start_time": "2020-02-28T00:56:29.071564Z"
        },
        "id": "QpdmHSFdcJvU",
        "outputId": "41b936a7-f7d8-493b-bdb0-3d3faadb8f70",
        "colab": {
          "base_uri": "https://localhost:8080/"
        }
      },
      "outputs": [
        {
          "output_type": "execute_result",
          "data": {
            "text/plain": [
              "device(type='cuda')"
            ]
          },
          "metadata": {},
          "execution_count": 26
        }
      ],
      "source": [
        "# use GPU if available\n",
        "device = torch.device(\"cuda\") if torch.cuda.is_available() else torch.device(\"cpu\")\n",
        "device"
      ]
    },
    {
      "cell_type": "code",
      "execution_count": 27,
      "metadata": {
        "ExecuteTime": {
          "end_time": "2020-02-28T09:28:18.459203Z",
          "start_time": "2020-02-28T09:28:18.455997Z"
        },
        "id": "k1hQnmEfcJvV"
      },
      "outputs": [],
      "source": [
        "def subset_ind(dataset, ratio: float):\n",
        "#     return ### YOUR CODE HERE\n",
        "    return np.random.choice(len(dataset), size=int(ratio*len(dataset)), replace=False)"
      ]
    },
    {
      "cell_type": "code",
      "execution_count": 45,
      "metadata": {
        "ExecuteTime": {
          "end_time": "2020-02-28T09:32:54.001780Z",
          "start_time": "2020-02-28T09:32:51.635588Z"
        },
        "id": "Qd-WTaX2cJvW",
        "outputId": "e3584988-5bb0-4f58-d2de-5b8c7953f96f",
        "colab": {
          "base_uri": "https://localhost:8080/"
        }
      },
      "outputs": [
        {
          "output_type": "stream",
          "name": "stdout",
          "text": [
            "Parsing...\n",
            "found broken img: ./notMNIST_small/A/RGVtb2NyYXRpY2FCb2xkT2xkc3R5bGUgQm9sZC50dGY=.png [it's ok if <10 images are broken]\n",
            "found broken img: ./notMNIST_small/F/Q3Jvc3NvdmVyIEJvbGRPYmxpcXVlLnR0Zg==.png [it's ok if <10 images are broken]\n",
            "Done\n",
            "18724 3744\n",
            "\n",
            "\n",
            " dataset size: 3744, labels: [0 1 2 3 4 5 6 7 8 9]\n"
          ]
        }
      ],
      "source": [
        "dataset = DatasetMNIST(\n",
        "    './notMNIST_small',\n",
        "#     'AB',\n",
        "    transform=new_transform\n",
        ")\n",
        "\n",
        "shrink_inds = subset_ind(dataset, 0.2)\n",
        "print(len(dataset), len(shrink_inds))\n",
        "dataset = Subset(dataset, shrink_inds)\n",
        "\n",
        "print(f'\\n\\n dataset size: {len(dataset)}, labels: {np.unique(dataset.dataset.labels)}')"
      ]
    },
    {
      "cell_type": "code",
      "execution_count": 31,
      "metadata": {
        "ExecuteTime": {
          "end_time": "2020-02-28T09:32:54.028315Z",
          "start_time": "2020-02-28T09:32:54.004282Z"
        },
        "colab": {
          "base_uri": "https://localhost:8080/"
        },
        "id": "2LJ7G-_gcJvX",
        "outputId": "c4cdc2ee-9b7b-4881-fbee-5cf5979b7d7e"
      },
      "outputs": [
        {
          "output_type": "stream",
          "name": "stdout",
          "text": [
            "  training size: 2996\n",
            "validation size: 748\n"
          ]
        }
      ],
      "source": [
        "val_size = 0.2\n",
        "val_inds = subset_ind(dataset, val_size)\n",
        "\n",
        "train_dataset = Subset(dataset, [i for i in range(len(dataset)) if i not in val_inds])\n",
        "val_dataset = Subset(dataset, val_inds)\n",
        "\n",
        "print(f'  training size: {len(train_dataset)}\\nvalidation size: {len(val_dataset)}')"
      ]
    },
    {
      "cell_type": "code",
      "execution_count": 32,
      "metadata": {
        "ExecuteTime": {
          "end_time": "2020-02-28T09:32:59.926520Z",
          "start_time": "2020-02-28T09:32:59.922784Z"
        },
        "id": "OuVyvmpIcJvZ"
      },
      "outputs": [],
      "source": [
        "batch_size = 32\n",
        "\n",
        "train_loader = DataLoader(train_dataset, batch_size=batch_size, shuffle=True)\n",
        "val_loader = DataLoader(val_dataset, batch_size=batch_size, shuffle=True)"
      ]
    },
    {
      "cell_type": "code",
      "execution_count": 33,
      "metadata": {
        "ExecuteTime": {
          "end_time": "2020-02-28T09:33:00.954231Z",
          "start_time": "2020-02-28T09:33:00.947835Z"
        },
        "id": "sd3GYaTHcJva",
        "outputId": "818d0496-9a29-4dc9-c100-28fd672d085f",
        "colab": {
          "base_uri": "https://localhost:8080/"
        }
      },
      "outputs": [
        {
          "output_type": "stream",
          "name": "stdout",
          "text": [
            "<class 'torch.utils.data.dataloader._SingleProcessDataLoaderIter'>\n",
            "images shape on batch size = torch.Size([32, 784])\n",
            "labels shape on batch size = torch.Size([32])\n"
          ]
        }
      ],
      "source": [
        "train_iter = iter(train_loader)\n",
        "print(type(train_iter))\n",
        "\n",
        "images, labels = next(train_iter)\n",
        "\n",
        "print('images shape on batch size = {}'.format(images.size()))\n",
        "print('labels shape on batch size = {}'.format(labels.size()))"
      ]
    },
    {
      "cell_type": "code",
      "execution_count": 34,
      "metadata": {
        "ExecuteTime": {
          "end_time": "2020-02-28T09:35:42.679368Z",
          "start_time": "2020-02-28T09:35:42.676594Z"
        },
        "id": "t3hOKEGncJvc"
      },
      "outputs": [],
      "source": [
        "loss_func = nn.CrossEntropyLoss()"
      ]
    },
    {
      "cell_type": "code",
      "execution_count": 35,
      "metadata": {
        "ExecuteTime": {
          "end_time": "2020-02-28T09:35:44.204284Z",
          "start_time": "2020-02-28T09:35:44.199944Z"
        },
        "id": "sHMgW7OscJvd"
      },
      "outputs": [],
      "source": [
        "# create network again just in case\n",
        "model = nn.Sequential(\n",
        "    nn.Linear(784, 10),\n",
        "    nn.Sigmoid(),\n",
        ")\n",
        "model.to(device, torch.float32)\n",
        "\n",
        "opt = torch.optim.Adam(model.parameters(), lr=1e-3)"
      ]
    },
    {
      "cell_type": "code",
      "execution_count": 36,
      "metadata": {
        "ExecuteTime": {
          "end_time": "2020-02-28T09:33:02.897035Z",
          "start_time": "2020-02-28T09:33:02.884404Z"
        },
        "id": "IpLnil4JcJve"
      },
      "outputs": [],
      "source": [
        "def train_model(model, train_loader, val_loader, loss_fn, opt, n_epochs: int):\n",
        "    train_loss = []\n",
        "    val_loss = []\n",
        "    val_accuracy = []\n",
        "\n",
        "    for epoch in range(n_epochs):\n",
        "        ep_train_loss = []\n",
        "        ep_val_loss = []\n",
        "        ep_val_accuracy = []\n",
        "        start_time = time.time()\n",
        "\n",
        "        model.train(True) # enable dropout / batch_norm training behavior\n",
        "        for X_batch, y_batch in train_loader:\n",
        "            # move data to target device\n",
        "            ### YOUR CODE HERE\n",
        "            X_batch, y_batch = X_batch.to(device), y_batch.to(device)\n",
        "\n",
        "            y_pred = model.forward(X_batch)\n",
        "            loss = loss_fn(y_pred, y_batch)\n",
        "            loss.backward()\n",
        "\n",
        "            opt.step()\n",
        "            opt.zero_grad()\n",
        "            # train on batch: compute loss, calc grads, perform optimizer step and zero the grads\n",
        "            ep_train_loss.append(loss.item())\n",
        "\n",
        "        model.train(False) # disable dropout / use averages for batch_norm\n",
        "        with torch.no_grad():\n",
        "            for X_batch, y_batch in val_loader:\n",
        "                # move data to target device\n",
        "                ### YOUR CODE HERE\n",
        "                X_batch, y_batch = X_batch.to(device), y_batch.to(device)\n",
        "                # compute predictions\n",
        "                y_pred = model.forward(X_batch)\n",
        "                loss = loss_fn(y_pred, y_batch)\n",
        "                ### YOUR CODE HERE\n",
        "                ep_val_loss.append(loss.item())### YOUR CODE HERE)\n",
        "                #y_pred = ### YOUR CODE HERE\n",
        "                ep_val_loss.append(loss.item())\n",
        "                correct = (torch.argmax(y_pred, 1) == y_batch).type(torch.float32)\n",
        "                ep_val_accuracy.append(correct.mean().item())\n",
        "        # print the results for this epoch:\n",
        "        print(f'Epoch {epoch + 1} of {n_epochs} took {time.time() - start_time:.3f}s')\n",
        "\n",
        "        train_loss.append(np.mean(ep_train_loss))\n",
        "        val_loss.append(np.mean(ep_val_loss))\n",
        "        val_accuracy.append(np.mean(ep_val_accuracy))\n",
        "\n",
        "        print(f\"\\t  training loss: {train_loss[-1]:.6f}\")\n",
        "        print(f\"\\tvalidation loss: {val_loss[-1]:.6f}\")\n",
        "        print(f\"\\tvalidation accuracy: {val_accuracy[-1]:.3f}\")\n",
        "\n",
        "    return train_loss, val_loss, val_accuracy"
      ]
    },
    {
      "cell_type": "code",
      "execution_count": 37,
      "metadata": {
        "ExecuteTime": {
          "end_time": "2020-02-28T09:33:33.252494Z",
          "start_time": "2020-02-28T09:33:28.712014Z"
        },
        "scrolled": true,
        "id": "zxATTXOWcJvf",
        "outputId": "23287ab0-9fff-4798-e297-ddb137449d92",
        "colab": {
          "base_uri": "https://localhost:8080/"
        }
      },
      "outputs": [
        {
          "output_type": "stream",
          "name": "stdout",
          "text": [
            "Epoch 27 of 30 took 0.173s\n",
            "\t  training loss: 1.560545\n",
            "\tvalidation loss: 1.619468\n",
            "\tvalidation accuracy: 0.879\n",
            "Epoch 28 of 30 took 0.489s\n",
            "\t  training loss: 1.559280\n",
            "\tvalidation loss: 1.610279\n",
            "\tvalidation accuracy: 0.881\n",
            "Epoch 29 of 30 took 0.212s\n",
            "\t  training loss: 1.557625\n",
            "\tvalidation loss: 1.609964\n",
            "\tvalidation accuracy: 0.885\n",
            "Epoch 30 of 30 took 0.174s\n",
            "\t  training loss: 1.556922\n",
            "\tvalidation loss: 1.615701\n",
            "\tvalidation accuracy: 0.880\n"
          ]
        }
      ],
      "source": [
        "n_epochs = 30\n",
        "\n",
        "train_loss, val_loss, val_accuracy = train_model(model, train_loader, val_loader, loss_func, opt, n_epochs)"
      ]
    },
    {
      "cell_type": "code",
      "execution_count": 39,
      "metadata": {
        "ExecuteTime": {
          "end_time": "2020-02-28T09:33:35.242213Z",
          "start_time": "2020-02-28T09:33:35.237045Z"
        },
        "id": "yee06L_PcJvh"
      },
      "outputs": [],
      "source": [
        "def plot_train_process(train_loss, val_loss, val_accuracy):\n",
        "    fig, axes = plt.subplots(1, 2, figsize=(15, 5))\n",
        "\n",
        "    axes[0].set_title('Loss')\n",
        "    axes[0].plot(train_loss, label='train')\n",
        "    axes[0].plot(val_loss, label='validation')\n",
        "    axes[0].legend()\n",
        "\n",
        "    axes[1].set_title('Validation accuracy')\n",
        "    axes[1].plot(val_accuracy)"
      ]
    },
    {
      "cell_type": "code",
      "execution_count": 40,
      "metadata": {
        "ExecuteTime": {
          "end_time": "2020-02-28T09:33:36.057391Z",
          "start_time": "2020-02-28T09:33:35.611228Z"
        },
        "id": "sen3m-dBcJvi",
        "outputId": "e40b766d-f69f-4001-8c27-80bd8d65465c",
        "colab": {
          "base_uri": "https://localhost:8080/",
          "height": 434
        }
      },
      "outputs": [
        {
          "output_type": "display_data",
          "data": {
            "text/plain": [
              "<Figure size 1500x500 with 2 Axes>"
            ],
            "image/png": "[encoded data removed]"
          },
          "metadata": {}
        }
      ],
      "source": [
        "plot_train_process(train_loss, val_loss, val_accuracy)"
      ]
    },
    {
      "cell_type": "markdown",
      "metadata": {
        "id": "aWtqosqwcJvi"
      },
      "source": [
        "## Real network"
      ]
    },
    {
      "cell_type": "code",
      "execution_count": 41,
      "metadata": {
        "ExecuteTime": {
          "end_time": "2020-02-28T09:44:50.420339Z",
          "start_time": "2020-02-28T09:44:50.406364Z"
        },
        "id": "frBo8ApFcJvk"
      },
      "outputs": [],
      "source": [
        "# create network again just in case\n",
        "model = nn.Sequential(\n",
        "    nn.Linear(784, 500),\n",
        "    nn.ReLU(),\n",
        "    nn.Linear(500, 200),\n",
        "    nn.ReLU(),\n",
        "    nn.Linear(200, 10),\n",
        "    nn.Sigmoid(),\n",
        ")\n",
        "model.to(device, torch.float32)\n",
        "\n",
        "opt = torch.optim.Adam(model.parameters(), lr=1e-3)"
      ]
    },
    {
      "cell_type": "code",
      "execution_count": 42,
      "metadata": {
        "ExecuteTime": {
          "end_time": "2020-02-28T09:45:08.145156Z",
          "start_time": "2020-02-28T09:44:52.924801Z"
        },
        "scrolled": true,
        "id": "gnY4WKk9cJvl",
        "outputId": "6d5b8f2b-0fb9-47f6-e1dc-be45d6b43fa3",
        "colab": {
          "base_uri": "https://localhost:8080/"
        }
      },
      "outputs": [
        {
          "output_type": "stream",
          "name": "stdout",
          "text": [
            "Epoch 28 of 30 took 0.214s\n",
            "\t  training loss: 1.492859\n",
            "\tvalidation loss: 1.558558\n",
            "\tvalidation accuracy: 0.901\n",
            "Epoch 29 of 30 took 0.227s\n",
            "\t  training loss: 1.492482\n",
            "\tvalidation loss: 1.568969\n",
            "\tvalidation accuracy: 0.892\n",
            "Epoch 30 of 30 took 0.212s\n",
            "\t  training loss: 1.496101\n",
            "\tvalidation loss: 1.560419\n",
            "\tvalidation accuracy: 0.896\n"
          ]
        }
      ],
      "source": [
        "n_epochs = 30\n",
        "\n",
        "train_loss, val_loss, val_accuracy = train_model(model, train_loader, val_loader, loss_func, opt, n_epochs)"
      ]
    },
    {
      "cell_type": "code",
      "execution_count": 43,
      "metadata": {
        "ExecuteTime": {
          "end_time": "2020-02-28T09:45:13.396284Z",
          "start_time": "2020-02-28T09:45:13.032994Z"
        },
        "id": "71qc7LWdcJvm",
        "outputId": "1e6aba09-8261-42a1-cd69-a7d1d60fd2e6",
        "colab": {
          "base_uri": "https://localhost:8080/",
          "height": 434
        }
      },
      "outputs": [
        {
          "output_type": "display_data",
          "data": {
            "text/plain": [
              "<Figure size 1500x500 with 2 Axes>"
            ],
            "image/png": "[encoded data removed]"
          },
          "metadata": {}
        }
      ],
      "source": [
        "plot_train_process(train_loss, val_loss, val_accuracy)"
      ]
    },
    {
      "cell_type": "markdown",
      "metadata": {
        "id": "cZP-nmwRcJvn"
      },
      "source": [
        "## Your turn\n",
        "Try to add some additional transformations (e.g. random crop, rotation etc.) and train your model!"
      ]
    },
    {
      "cell_type": "code",
      "source": [
        "# add transformations\n",
        "my_transform = torchvision.transforms.Compose([\n",
        "    torchvision.transforms.ToTensor(),\n",
        "    torchvision.transforms.Normalize(mean=[0.485], std=[0.229]),\n",
        "    torchvision.transforms.RandomResizedCrop(size=(28, 28), antialias=True),\n",
        "    torchvision.transforms.RandomHorizontalFlip(p=0.5),\n",
        "    Flatten()\n",
        "])\n",
        "\n",
        "dataset = DatasetMNIST(\n",
        "    './notMNIST_small',\n",
        "    transform=my_transform\n",
        ")"
      ],
      "metadata": {
        "id": "MoQTZEZo_rNC",
        "outputId": "51aaf8fd-1b13-413d-c596-7ae47239d812",
        "colab": {
          "base_uri": "https://localhost:8080/"
        }
      },
      "execution_count": 96,
      "outputs": [
        {
          "output_type": "stream",
          "name": "stdout",
          "text": [
            "Parsing...\n",
            "found broken img: ./notMNIST_small/A/RGVtb2NyYXRpY2FCb2xkT2xkc3R5bGUgQm9sZC50dGY=.png [it's ok if <10 images are broken]\n",
            "found broken img: ./notMNIST_small/F/Q3Jvc3NvdmVyIEJvbGRPYmxpcXVlLnR0Zg==.png [it's ok if <10 images are broken]\n",
            "Done\n"
          ]
        }
      ]
    },
    {
      "cell_type": "code",
      "execution_count": 97,
      "metadata": {
        "ExecuteTime": {
          "end_time": "2020-02-28T09:32:54.028315Z",
          "start_time": "2020-02-28T09:32:54.004282Z"
        },
        "outputId": "023bbfb7-7230-4062-aab1-484b792d48c4",
        "colab": {
          "base_uri": "https://localhost:8080/"
        },
        "id": "Mpy1luStLObY"
      },
      "outputs": [
        {
          "output_type": "stream",
          "name": "stdout",
          "text": [
            "  training size: 14980\n",
            "validation size: 3744\n"
          ]
        }
      ],
      "source": [
        "val_size = 0.2\n",
        "val_inds = subset_ind(dataset, val_size)\n",
        "\n",
        "train_dataset = Subset(dataset, [i for i in range(len(dataset)) if i not in val_inds])\n",
        "val_dataset = Subset(dataset, val_inds)\n",
        "\n",
        "print(f'  training size: {len(train_dataset)}\\nvalidation size: {len(val_dataset)}')"
      ]
    },
    {
      "cell_type": "code",
      "execution_count": 98,
      "metadata": {
        "ExecuteTime": {
          "end_time": "2020-02-28T09:32:59.926520Z",
          "start_time": "2020-02-28T09:32:59.922784Z"
        },
        "id": "F4ad6sCaLObc"
      },
      "outputs": [],
      "source": [
        "batch_size = 32\n",
        "\n",
        "train_loader = DataLoader(train_dataset, batch_size=batch_size, shuffle=True)\n",
        "val_loader = DataLoader(val_dataset, batch_size=batch_size, shuffle=True)"
      ]
    },
    {
      "cell_type": "code",
      "source": [
        "images, labels = next(iter(train_loader))\n",
        "\n",
        "grid = torchvision.utils.make_grid(images.view(-1,28,28).unsqueeze(1))\n",
        "\n",
        "plt.imshow(grid.permute((1, 2, 0)), cmap='gray')\n",
        "plt.axis('off')\n",
        "plt.title(labels);\n",
        "\n",
        "print('images shape on batch size = {}'.format(images.size()))\n",
        "print('labels shape on batch size = {}'.format(labels.size()))"
      ],
      "metadata": {
        "id": "dZQaW6nyMlBj",
        "outputId": "4c754c42-fc68-41b2-f797-d0b2e6fc323a",
        "colab": {
          "base_uri": "https://localhost:8080/",
          "height": 383
        }
      },
      "execution_count": 99,
      "outputs": [
        {
          "output_type": "stream",
          "name": "stderr",
          "text": [
            "WARNING:matplotlib.image:Clipping input data to the valid range for imshow with RGB data ([0..1] for floats or [0..255] for integers).\n"
          ]
        },
        {
          "output_type": "stream",
          "name": "stdout",
          "text": [
            "images shape on batch size = torch.Size([32, 784])\n",
            "labels shape on batch size = torch.Size([32])\n"
          ]
        },
        {
          "output_type": "display_data",
          "data": {
            "text/plain": [
              "<Figure size 640x480 with 1 Axes>"
            ],
            "image/png": "[encoded data removed]"
          },
          "metadata": {}
        }
      ]
    },
    {
      "cell_type": "markdown",
      "metadata": {
        "id": "CpA9RvIjcJvp"
      },
      "source": [
        "### Dropout try"
      ]
    },
    {
      "cell_type": "code",
      "execution_count": 100,
      "metadata": {
        "id": "OL1iv8PrcJvr"
      },
      "outputs": [],
      "source": [
        "my_model = nn.Sequential(\n",
        "    nn.Linear(784, 700),\n",
        "    nn.ReLU(),\n",
        "    nn.Linear(700, 200),\n",
        "    nn.ReLU(),\n",
        "    nn.Dropout(p=0.5),\n",
        "    nn.Linear(200, 10),\n",
        "    nn.Sigmoid(),\n",
        ")\n",
        "model.to(device, torch.float32)\n",
        "\n",
        "opt = torch.optim.Adam(model.parameters(), lr=1e-3)"
      ]
    },
    {
      "cell_type": "markdown",
      "metadata": {
        "id": "OY9Ewkp5cJvs"
      },
      "source": [
        "### Batchnorm try"
      ]
    },
    {
      "cell_type": "code",
      "execution_count": null,
      "metadata": {
        "id": "Xfau6ZTScJvt"
      },
      "outputs": [],
      "source": []
    },
    {
      "cell_type": "markdown",
      "metadata": {
        "id": "r9-iHhY0cJvu"
      },
      "source": [
        "### 3. Save the model (model checkpointing)\n",
        "\n",
        "Now we have trained a model! Obviously we do not want to retrain the model everytime we want to use it. Plus if you are training a super big model, you probably want to save checkpoint periodically so that you can always fall back to the last checkpoint in case something bad happened or you simply want to test models at different training iterations.\n",
        "\n",
        "Model checkpointing is fairly simple in PyTorch. First, we define a helper function that can save a model to the disk"
      ]
    },
    {
      "cell_type": "code",
      "execution_count": null,
      "metadata": {
        "id": "745WeVh5cJvv"
      },
      "outputs": [],
      "source": [
        "def save_checkpoint(checkpoint_path, model, optimizer):\n",
        "    # state_dict: a Python dictionary object that:\n",
        "    # - for a model, maps each layer to its parameter tensor;\n",
        "    # - for an optimizer, contains info about the optimizer’s states and hyperparameters used.\n",
        "    state = {\n",
        "        'state_dict': model.state_dict(),\n",
        "        'optimizer' : optimizer.state_dict()}\n",
        "    torch.save(state, checkpoint_path)\n",
        "    print('model saved to %s' % checkpoint_path)\n",
        "\n",
        "def load_checkpoint(checkpoint_path, model, optimizer):\n",
        "    state = torch.load(checkpoint_path)\n",
        "    model.load_state_dict(state['state_dict'])\n",
        "    optimizer.load_state_dict(state['optimizer'])\n",
        "    print('model loaded from %s' % checkpoint_path)"
      ]
    },
    {
      "cell_type": "code",
      "execution_count": null,
      "metadata": {
        "id": "Lq49qLmEcJvx"
      },
      "outputs": [],
      "source": [
        "# create a brand new model\n",
        "model = Net().to(device)\n",
        "optimizer = optim.SGD(model.parameters(), lr=0.001, momentum=0.9)\n",
        "# Testing -- you should get a pretty poor performance since the model hasn't learned anything yet.\n",
        "test()"
      ]
    },
    {
      "cell_type": "markdown",
      "metadata": {
        "id": "kfdm-lpPcJvy"
      },
      "source": [
        "#### Define a training loop with model checkpointing"
      ]
    },
    {
      "cell_type": "code",
      "execution_count": null,
      "metadata": {
        "id": "4-ne-sVocJvz"
      },
      "outputs": [],
      "source": [
        "def train_save(epoch, save_interval, log_interval=100):\n",
        "    model.train()  # set training mode\n",
        "    iteration = 0\n",
        "    for ep in range(epoch):\n",
        "        for batch_idx, (data, target) in enumerate(trainset_loader):\n",
        "            data, target = data.to(device), target.to(device)\n",
        "            optimizer.zero_grad()\n",
        "            output = model(data)\n",
        "            loss = F.nll_loss(output, target)\n",
        "            loss.backward()\n",
        "            optimizer.step()\n",
        "            if iteration % log_interval == 0:\n",
        "                print('Train Epoch: {} [{}/{} ({:.0f}%)]\\tLoss: {:.6f}'.format(\n",
        "                    ep, batch_idx * len(data), len(trainset_loader.dataset),\n",
        "                    100. * batch_idx / len(trainset_loader), loss.item()))\n",
        "            # different from before: saving model checkpoints\n",
        "            if iteration % save_interval == 0 and iteration > 0:\n",
        "                save_checkpoint('mnist-%i.pth' % iteration, model, optimizer)\n",
        "            iteration += 1\n",
        "        test()\n",
        "\n",
        "    # save the final model\n",
        "    save_checkpoint('mnist-%i.pth' % iteration, model, optimizer)"
      ]
    },
    {
      "cell_type": "code",
      "execution_count": null,
      "metadata": {
        "id": "tLdtmL_ZcJv0"
      },
      "outputs": [],
      "source": [
        "train_save(5, save_interval=500, log_interval=100)"
      ]
    },
    {
      "cell_type": "code",
      "execution_count": null,
      "metadata": {
        "id": "4XGxMy5CcJv1"
      },
      "outputs": [],
      "source": [
        "!ls mnist*.pth"
      ]
    },
    {
      "cell_type": "code",
      "execution_count": null,
      "metadata": {
        "id": "e7V0e_LYcJv2"
      },
      "outputs": [],
      "source": [
        "# create a new model\n",
        "model = Net().to(device)\n",
        "optimizer = optim.SGD(model.parameters(), lr=0.001, momentum=0.9)\n",
        "# load from the final checkpoint\n",
        "load_checkpoint('<CHECKPOINT NAME>', model, optimizer)\n",
        "# should give you the final model accuracy\n",
        "test()"
      ]
    },
    {
      "cell_type": "markdown",
      "metadata": {
        "id": "9Nur3pzocJv3"
      },
      "source": [
        "```\n",
        "\n",
        "```\n",
        "\n",
        "```\n",
        "\n",
        "```\n",
        "\n",
        "```\n",
        "\n",
        "```\n",
        "\n",
        "```\n",
        "\n",
        "```\n",
        "\n",
        "```\n",
        "\n",
        "```\n",
        "### More about pytorch:\n",
        "* Using torch on GPU and multi-GPU - [link](http://pytorch.org/docs/master/notes/cuda.html)\n",
        "* More tutorials on pytorch - [link](http://pytorch.org/tutorials/beginner/deep_learning_60min_blitz.html)\n",
        "* Pytorch examples - a repo that implements many cool DL models in pytorch - [link](https://github.com/pytorch/examples)\n",
        "* Practical pytorch - a repo that implements some... other cool DL models... yes, in pytorch - [link](https://github.com/spro/practical-pytorch)\n",
        "* And some more - [link](https://www.reddit.com/r/pytorch/comments/6z0yeo/pytorch_and_pytorch_tricks_for_kaggle/)"
      ]
    }
  ],
  "metadata": {
    "kernelspec": {
      "display_name": "Py3 research env",
      "language": "python",
      "name": "py3_research"
    },
    "language_info": {
      "codemirror_mode": {
        "name": "ipython",
        "version": 3
      },
      "file_extension": ".py",
      "mimetype": "text/x-python",
      "name": "python",
      "nbconvert_exporter": "python",
      "pygments_lexer": "ipython3",
      "version": "3.7.7"
    },
    "colab": {
      "provenance": [],
      "gpuType": "T4"
    },
    "accelerator": "GPU"
  },
  "nbformat": 4,
  "nbformat_minor": 0
}