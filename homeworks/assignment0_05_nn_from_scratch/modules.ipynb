{
  "cells": [
    {
      "cell_type": "markdown",
      "metadata": {
        "id": "ZrrBqt0vmzSE"
      },
      "source": [
        "Credits: this notebook belongs to [Practical DL](https://docs.google.com/forms/d/e/1FAIpQLScvrVtuwrHSlxWqHnLt1V-_7h2eON_mlRR6MUb3xEe5x9LuoA/viewform?usp=sf_link) course by Yandex School of Data Analysis."
      ]
    },
    {
      "cell_type": "code",
      "execution_count": 5,
      "metadata": {
        "id": "jozxHDpMmzSK"
      },
      "outputs": [],
      "source": [
        "import numpy as np\n",
        "import torch"
      ]
    },
    {
      "cell_type": "markdown",
      "metadata": {
        "id": "jamulp2VmzSO"
      },
      "source": [
        "**Module** is an abstract class which defines fundamental methods necessary for a training a neural network. You do not need to change anything here, just read the comments."
      ]
    },
    {
      "cell_type": "code",
      "execution_count": 7,
      "metadata": {
        "id": "v40T9gedmzSR"
      },
      "outputs": [],
      "source": [
        "class Module(object):\n",
        "    \"\"\"\n",
        "    Basically, you can think of a module as of a something (black box)\n",
        "    which can process `input` data and produce `ouput` data.\n",
        "    This is like applying a function which is called `forward`:\n",
        "\n",
        "        output = module.forward(input)\n",
        "\n",
        "    The module should be able to perform a backward pass: to differentiate the `forward` function.\n",
        "    More, it should be able to differentiate it if is a part of chain (chain rule).\n",
        "    The latter implies there is a gradient from previous step of a chain rule.\n",
        "\n",
        "        gradInput = module.backward(input, gradOutput)\n",
        "    \"\"\"\n",
        "    def __init__ (self):\n",
        "        self.output = None\n",
        "        self.gradInput = None\n",
        "        self.training = True\n",
        "\n",
        "    def forward(self, input):\n",
        "        \"\"\"\n",
        "        Takes an input object, and computes the corresponding output of the module.\n",
        "        \"\"\"\n",
        "        return self.updateOutput(input)\n",
        "\n",
        "    def backward(self,input, gradOutput):\n",
        "        \"\"\"\n",
        "        Performs a backpropagation step through the module, with respect to the given input.\n",
        "\n",
        "        This includes\n",
        "         - computing a gradient w.r.t. `input` (is needed for further backprop),\n",
        "         - computing a gradient w.r.t. parameters (to update parameters while optimizing).\n",
        "        \"\"\"\n",
        "        self.updateGradInput(input, gradOutput)\n",
        "        self.accGradParameters(input, gradOutput)\n",
        "        return self.gradInput\n",
        "\n",
        "\n",
        "    def updateOutput(self, input):\n",
        "        \"\"\"\n",
        "        Computes the output using the current parameter set of the class and input.\n",
        "        This function returns the result which is stored in the `output` field.\n",
        "\n",
        "        Make sure to both store the data in `output` field and return it.\n",
        "        \"\"\"\n",
        "\n",
        "        # The easiest case:\n",
        "\n",
        "        # self.output = input\n",
        "        # return self.output\n",
        "\n",
        "        pass\n",
        "\n",
        "    def updateGradInput(self, input, gradOutput):\n",
        "        \"\"\"\n",
        "        Computing the gradient of the module with respect to its own input.\n",
        "        This is returned in `gradInput`. Also, the `gradInput` state variable is updated accordingly.\n",
        "\n",
        "        The shape of `gradInput` is always the same as the shape of `input`.\n",
        "\n",
        "        Make sure to both store the gradients in `gradInput` field and return it.\n",
        "        \"\"\"\n",
        "\n",
        "        # The easiest case:\n",
        "\n",
        "        # self.gradInput = gradOutput\n",
        "        # return self.gradInput\n",
        "\n",
        "        pass\n",
        "\n",
        "    def accGradParameters(self, input, gradOutput):\n",
        "        \"\"\"\n",
        "        Computing the gradient of the module with respect to its own parameters.\n",
        "        No need to override if module has no parameters (e.g. ReLU).\n",
        "        \"\"\"\n",
        "        pass\n",
        "\n",
        "    def zeroGradParameters(self):\n",
        "        \"\"\"\n",
        "        Zeroes `gradParams` variable if the module has params.\n",
        "        \"\"\"\n",
        "        pass\n",
        "\n",
        "    def getParameters(self):\n",
        "        \"\"\"\n",
        "        Returns a list with its parameters.\n",
        "        If the module does not have parameters return empty list.\n",
        "        \"\"\"\n",
        "        return []\n",
        "\n",
        "    def getGradParameters(self):\n",
        "        \"\"\"\n",
        "        Returns a list with gradients with respect to its parameters.\n",
        "        If the module does not have parameters return empty list.\n",
        "        \"\"\"\n",
        "        return []\n",
        "\n",
        "    def train(self):\n",
        "        \"\"\"\n",
        "        Sets training mode for the module.\n",
        "        Training and testing behaviour differs for Dropout, BatchNorm.\n",
        "        \"\"\"\n",
        "        self.training = True\n",
        "\n",
        "    def evaluate(self):\n",
        "        \"\"\"\n",
        "        Sets evaluation mode for the module.\n",
        "        Training and testing behaviour differs for Dropout, BatchNorm.\n",
        "        \"\"\"\n",
        "        self.training = False\n",
        "\n",
        "    def __repr__(self):\n",
        "        \"\"\"\n",
        "        Pretty printing. Should be overrided in every module if you want\n",
        "        to have readable description.\n",
        "        \"\"\"\n",
        "        return \"Module\""
      ]
    },
    {
      "cell_type": "markdown",
      "metadata": {
        "id": "tCqpHEoQmzSY"
      },
      "source": [
        "# Sequential container"
      ]
    },
    {
      "cell_type": "markdown",
      "metadata": {
        "id": "mGd1JywBmzSb"
      },
      "source": [
        "**Define** a forward and backward pass procedures."
      ]
    },
    {
      "cell_type": "code",
      "source": [
        "[i for i in range(10)]"
      ],
      "metadata": {
        "id": "okCy8jhyfX4E",
        "outputId": "c1a90be4-4d29-4192-c2ca-1a4aadbb5e4d",
        "colab": {
          "base_uri": "https://localhost:8080/"
        }
      },
      "execution_count": 4,
      "outputs": [
        {
          "output_type": "execute_result",
          "data": {
            "text/plain": [
              "[0, 1, 2, 3, 4, 5, 6, 7, 8, 9]"
            ]
          },
          "metadata": {},
          "execution_count": 4
        }
      ]
    },
    {
      "cell_type": "code",
      "execution_count": 72,
      "metadata": {
        "id": "fDBwBrxEmzSd"
      },
      "outputs": [],
      "source": [
        "class Sequential(Module):\n",
        "    \"\"\"\n",
        "         This class implements a container, which processes `input` data sequentially.\n",
        "\n",
        "         `input` is processed by each module (layer) in self.modules consecutively.\n",
        "         The resulting array is called `output`.\n",
        "    \"\"\"\n",
        "\n",
        "    def __init__ (self):\n",
        "        super(Sequential, self).__init__()\n",
        "        self.modules = []\n",
        "\n",
        "    def add(self, module):\n",
        "        \"\"\"\n",
        "        Adds a module to the container.\n",
        "        \"\"\"\n",
        "        self.modules.append(module)\n",
        "\n",
        "    def updateOutput(self, input):\n",
        "        \"\"\"\n",
        "        Basic workflow of FORWARD PASS:\n",
        "\n",
        "            y_0    = module[0].forward(input)\n",
        "            y_1    = module[1].forward(y_0)\n",
        "            ...\n",
        "            output = module[n-1].forward(y_{n-2})\n",
        "\n",
        "\n",
        "        Just write a little loop.\n",
        "        \"\"\"\n",
        "        self.output = input\n",
        "\n",
        "        for module in self.modules:\n",
        "            self.output = module.forward(self.output)\n",
        "        return self.output\n",
        "\n",
        "    def backward(self, input, gradOutput):\n",
        "        \"\"\"\n",
        "        Workflow of BACKWARD PASS:\n",
        "\n",
        "            g_{n-1} = module[n-1].backward(y_{n-2}, gradOutput)\n",
        "            g_{n-2} = module[n-2].backward(y_{n-3}, g_{n-1})\n",
        "            ...\n",
        "            g_1 = module[1].backward(y_0, g_2)\n",
        "            gradInput = module[0].backward(input, g_1)\n",
        "\n",
        "\n",
        "        !!!\n",
        "\n",
        "        To ech module you need to provide the input, the module saw while forward pass,\n",
        "        it is used while computing gradients.\n",
        "        Make sure that the input for `i-th` layer the output of `module[i]` (just the same input as in forward pass)\n",
        "        and NOT `input` to this Sequential module.\n",
        "\n",
        "        !!!\n",
        "\n",
        "        \"\"\"\n",
        "        m_num = len(self.modules)-1\n",
        "        for i in range(m_num):\n",
        "            gradOutput = self.modules[m_num-i].backward(self.modules[m_num-i-1].output, gradOutput)\n",
        "\n",
        "        self.gradInput = self.modules[0].backward(input, gradOutput)\n",
        "        return self.gradInput\n",
        "\n",
        "\n",
        "    def zeroGradParameters(self):\n",
        "        for module in self.modules:\n",
        "            module.zeroGradParameters()\n",
        "\n",
        "    def getParameters(self):\n",
        "        \"\"\"\n",
        "        Should gather all parameters in a list.\n",
        "        \"\"\"\n",
        "        return [x.getParameters() for x in self.modules]\n",
        "\n",
        "    def getGradParameters(self):\n",
        "        \"\"\"\n",
        "        Should gather all gradients w.r.t parameters in a list.\n",
        "        \"\"\"\n",
        "        return [x.getGradParameters() for x in self.modules]\n",
        "\n",
        "    def __repr__(self):\n",
        "        string = \"\".join([str(x) + '\\n' for x in self.modules])\n",
        "        return string\n",
        "\n",
        "    def __getitem__(self,x):\n",
        "        return self.modules.__getitem__(x)\n",
        "\n",
        "    def train(self):\n",
        "        \"\"\"\n",
        "        Propagates training parameter through all modules\n",
        "        \"\"\"\n",
        "        self.training = True\n",
        "        for module in self.modules:\n",
        "            module.train()\n",
        "\n",
        "    def evaluate(self):\n",
        "        \"\"\"\n",
        "        Propagates training parameter through all modules\n",
        "        \"\"\"\n",
        "        self.training = False\n",
        "        for module in self.modules:\n",
        "            module.evaluate()"
      ]
    },
    {
      "cell_type": "code",
      "source": [
        "import torch\n",
        "import torch.nn as nn\n",
        "import numpy as np\n",
        "\n",
        "# Create a random input tensor and gradient output tensor\n",
        "input_tensor = torch.randn(10, 5, requires_grad=True)\n",
        "grad_output_tensor = torch.randn(10, 3)\n",
        "\n",
        "# Create an instance of the provided Sequential container\n",
        "sequential_container = Sequential()\n",
        "\n",
        "# Create an instance of the PyTorch nn.Sequential container\n",
        "torch_sequential_container = nn.Sequential(\n",
        "    nn.Linear(5, 10),\n",
        "    nn.ReLU(),\n",
        "    nn.Linear(10, 3)\n",
        ")\n",
        "\n",
        "# Add modules to the provided Sequential container\n",
        "sequential_container.add(Linear(5, 10))\n",
        "sequential_container.add(ReLU())\n",
        "sequential_container.add(Linear(10, 3))\n",
        "\n",
        "# Set the weights and biases of the provided Sequential container to match the PyTorch nn.Sequential container\n",
        "for i, (module, torch_module) in enumerate(zip(sequential_container.modules, torch_sequential_container)):\n",
        "    if isinstance(module, Linear):\n",
        "        module.W = torch_module.weight.detach().numpy().T\n",
        "        module.b = torch_module.bias.detach().numpy()\n",
        "\n",
        "# Forward pass using the provided Sequential container\n",
        "sequential_output = sequential_container.updateOutput(input_tensor.detach().numpy())\n",
        "\n",
        "# Forward pass using the PyTorch nn.Sequential container\n",
        "torch_sequential_output = torch_sequential_container(input_tensor)\n",
        "\n",
        "# Set the gradient output to ones\n",
        "grad_output = torch.ones_like(torch_sequential_output)\n",
        "\n",
        "# Backward pass using the provided Sequential container\n",
        "sequential_container.backward(input_tensor.detach().numpy(), grad_output.detach().numpy())\n",
        "\n",
        "# Backward pass using the PyTorch nn.Sequential container\n",
        "torch_sequential_output.backward(grad_output)\n",
        "\n",
        "# Compare the outputs\n",
        "output_diff = np.abs(sequential_output - torch_sequential_output.detach().numpy())\n",
        "max_output_diff = np.max(output_diff)\n",
        "\n",
        "# Compare the gradients\n",
        "grad_input_diff = np.abs(sequential_container.gradInput - input_tensor.grad.numpy())\n",
        "max_grad_input_diff = np.max(grad_input_diff)\n",
        "\n",
        "# Check if the outputs and gradients are equal within a tolerance\n",
        "if max_output_diff < 1e-6 and max_grad_input_diff < 1e-6:\n",
        "    print(\"The outputs and gradients of the provided Sequential container and the PyTorch nn.Sequential container are equal.\")\n",
        "else:\n",
        "    print(\"The outputs and gradients of the provided Sequential container and the PyTorch nn.Sequential container are not equal.\")\n"
      ],
      "metadata": {
        "id": "vaYJ-Nzfo9uJ",
        "outputId": "bb29b1db-4c2a-482f-f177-ff3a85b59451",
        "colab": {
          "base_uri": "https://localhost:8080/"
        }
      },
      "execution_count": 78,
      "outputs": [
        {
          "output_type": "stream",
          "name": "stdout",
          "text": [
            "Init W shape: (10, 5)\n",
            "Init W shape: (3, 10)\n",
            "input shape: (10, 5) W inside shape: (5, 10) B shape: (10,)\n",
            "Out shape: (10, 10)\n",
            "input shape: (10, 10) W inside shape: (10, 3) B shape: (3,)\n",
            "Out shape: (10, 3)\n",
            "input shape: (10, 10) gradOutput shape: (10, 3) W.shape: (10, 3)\n",
            "GradInput shape: (10, 10)\n",
            "input shape: (10, 5) gradOutput shape: (10, 10) W.shape: (5, 10)\n",
            "GradInput shape: (10, 5)\n",
            "The outputs and gradients of the provided Sequential container and the PyTorch nn.Sequential container are equal.\n"
          ]
        }
      ]
    },
    {
      "cell_type": "markdown",
      "metadata": {
        "id": "Sapo9VuHmzSg"
      },
      "source": [
        "# Layers"
      ]
    },
    {
      "cell_type": "markdown",
      "metadata": {
        "id": "PFKX17bJmzSi"
      },
      "source": [
        "## 1. Linear transform layer\n",
        "Also known as dense layer, fully-connected layer, FC-layer, InnerProductLayer (in caffe), affine transform\n",
        "- input:   **`batch_size x n_feats1`**\n",
        "- output: **`batch_size x n_feats2`**"
      ]
    },
    {
      "cell_type": "code",
      "execution_count": 64,
      "metadata": {
        "id": "UvSOmKtkmzSm"
      },
      "outputs": [],
      "source": [
        "class Linear(Module):\n",
        "    \"\"\"\n",
        "    A module which applies a linear transformation\n",
        "    A common name is fully-connected layer, InnerProductLayer in caffe.\n",
        "\n",
        "    The module should work with 2D input of shape (n_samples, n_feature).\n",
        "    \"\"\"\n",
        "    def __init__(self, n_in, n_out):\n",
        "        super(Linear, self).__init__()\n",
        "\n",
        "        # This is a nice initialization\n",
        "        stdv = 1./np.sqrt(n_in)\n",
        "        self.W = np.random.uniform(-stdv, stdv, size = (n_out, n_in))\n",
        "        print('Init W shape:' , self.W.shape)\n",
        "        self.b = np.random.uniform(-stdv, stdv, size = n_out)\n",
        "\n",
        "        self.gradW = np.zeros_like(self.W)\n",
        "        self.gradb = np.zeros_like(self.b)\n",
        "\n",
        "    def updateOutput(self, input):\n",
        "        # Your code goes here. ################################################\n",
        "        # self.output = ...\n",
        "        print('input shape:', input.shape, 'W inside shape:' , self.W.shape, 'B shape:', self.b.shape) # self.W somehow has swapped dimensions...\n",
        "        self.output = input@self.W + self.b\n",
        "        print('Out shape:', self.output.shape)\n",
        "\n",
        "        return self.output\n",
        "\n",
        "    def updateGradInput(self, input, gradOutput):\n",
        "        # Your code goes here. ################################################\n",
        "        print('input shape:', input.shape, 'gradOutput shape:', gradOutput.shape, 'W.shape:', self.W.shape)\n",
        "        self.gradInput = gradOutput@self.W.T\n",
        "        print('GradInput shape:', self.gradInput.shape)\n",
        "        return self.gradInput\n",
        "\n",
        "    def accGradParameters(self, input, gradOutput):  # BxD -> BxM\n",
        "        # Your code goes here. ################################################\n",
        "        self.gradb = gradOutput.sum(0)      # BxM -> 1xM\n",
        "        self.gradW = input.T@gradOutput     # DxB x BxM = DxM\n",
        "        pass\n",
        "\n",
        "    def zeroGradParameters(self):\n",
        "        self.gradW.fill(0)\n",
        "        self.gradb.fill(0)\n",
        "\n",
        "    def getParameters(self):\n",
        "        return [self.W, self.b]\n",
        "\n",
        "    def getGradParameters(self):\n",
        "        return [self.gradW, self.gradb]\n",
        "\n",
        "    def __repr__(self):\n",
        "        s = self.W.shape\n",
        "        q = 'Linear %d -> %d' %(s[1],s[0])\n",
        "        return q"
      ]
    },
    {
      "cell_type": "code",
      "source": [
        "import torch\n",
        "import numpy as np\n",
        "\n",
        "# Create a random input tensor\n",
        "input_tensor = torch.randn(10, 5, requires_grad=True)\n",
        "\n",
        "# Create an instance of the provided Linear module\n",
        "linear_module = Linear(5, 3)\n",
        "\n",
        "# Create an instance of the PyTorch nn.Linear module with the same dimensions\n",
        "torch_linear_module = torch.nn.Linear(5, 3)\n",
        "\n",
        "# Set the weights and biases of the provided Linear module to match the PyTorch nn.Linear module\n",
        "linear_module.W = torch_linear_module.weight.detach().numpy().T\n",
        "linear_module.b = torch_linear_module.bias.detach().numpy()\n",
        "\n",
        "# Forward pass using the provided Linear module\n",
        "linear_output = linear_module.updateOutput(input_tensor.detach().numpy())\n",
        "\n",
        "# Forward pass using the PyTorch nn.Linear module\n",
        "torch_linear_output = torch_linear_module(input_tensor)\n",
        "\n",
        "# Set the gradient output to ones\n",
        "grad_output = torch.ones_like(torch_linear_output)\n",
        "\n",
        "# Backward pass using the provided Linear module\n",
        "linear_module.updateGradInput(input_tensor.detach().numpy(), grad_output.detach().numpy())\n",
        "linear_module.accGradParameters(input_tensor.detach().numpy(), grad_output.detach().numpy())\n",
        "\n",
        "# Backward pass using the PyTorch nn.Linear module\n",
        "torch_linear_output.backward(grad_output)\n",
        "torch_grad_input = input_tensor.grad\n",
        "torch_grad_W = torch_linear_module.weight.grad.T.detach().numpy()\n",
        "torch_grad_b = torch_linear_module.bias.grad.detach().numpy()\n",
        "\n",
        "# Compare the gradients\n",
        "grad_input_diff = np.abs(linear_module.gradInput - torch_grad_input.numpy())\n",
        "grad_W_diff = np.abs(linear_module.gradW - torch_grad_W)\n",
        "grad_b_diff = np.abs(linear_module.gradb - torch_grad_b)\n",
        "max_grad_input_diff = np.max(grad_input_diff)\n",
        "max_grad_W_diff = np.max(grad_W_diff)\n",
        "max_grad_b_diff = np.max(grad_b_diff)\n",
        "\n",
        "# Check if the gradients are equal within a tolerance\n",
        "if max_grad_input_diff < 1e-6 and max_grad_W_diff < 1e-6 and max_grad_b_diff < 1e-6:\n",
        "    print(\"The gradients of the provided Linear module and the PyTorch nn.Linear module are equal.\")\n",
        "else:\n",
        "    print(\"The gradients of the provided Linear module and the PyTorch nn.Linear module are not equal.\")\n"
      ],
      "metadata": {
        "id": "YfWcXzDUiAF7",
        "outputId": "ea42dd63-38c2-4e31-9fb5-27ea973fb195",
        "colab": {
          "base_uri": "https://localhost:8080/"
        }
      },
      "execution_count": 65,
      "outputs": [
        {
          "output_type": "stream",
          "name": "stdout",
          "text": [
            "Init W shape: (3, 5)\n",
            "input shape: (10, 5) W inside shape: (5, 3) B shape: (3,)\n",
            "Out shape: (10, 3)\n",
            "input shape: (10, 5) gradOutput shape: (10, 3) W.shape: (5, 3)\n",
            "GradInput shape: (10, 5)\n",
            "The gradients of the provided Linear module and the PyTorch nn.Linear module are equal.\n"
          ]
        }
      ]
    },
    {
      "cell_type": "markdown",
      "metadata": {
        "id": "Vkf2TX0ImzSp"
      },
      "source": [
        "## 2. SoftMax\n",
        "- input:   **`batch_size x n_feats`**\n",
        "- output: **`batch_size x n_feats`**\n",
        "\n",
        "$\\text{softmax}(x)_i = \\frac{\\exp x_i} {\\sum_j \\exp x_j}$\n",
        "\n",
        "Recall that $\\text{softmax}(x) == \\text{softmax}(x - \\text{const})$. It makes possible to avoid computing exp() from large argument."
      ]
    },
    {
      "cell_type": "code",
      "execution_count": 171,
      "metadata": {
        "collapsed": true,
        "id": "ZbVJnpxtmzSr"
      },
      "outputs": [],
      "source": [
        "class SoftMax(Module):\n",
        "    def __init__(self):\n",
        "         super(SoftMax, self).__init__()\n",
        "\n",
        "    def updateOutput(self, input):\n",
        "        # start with normalization for numerical stability\n",
        "        input_exp = np.exp(np.subtract(input, input.max(axis=1, keepdims=True)))\n",
        "        # print((np.exp(input).sum(axis=1)**-1).shape)\n",
        "        self.output = input_exp * input_exp.sum(axis=1, keepdims=True)**-1\n",
        "        # Your code goes here. ################################################\n",
        "        return self.output\n",
        "\n",
        "    def updateGradInput(self, input, gradOutput):\n",
        "        # Your code goes here. ################################################\n",
        "        self.gradInput = (gradOutput - (gradOutput * self.output).sum(axis=1, keepdims=True)) * self.output\n",
        "        return self.gradInput\n",
        "\n",
        "    def __repr__(self):\n",
        "        return \"SoftMax\""
      ]
    },
    {
      "cell_type": "code",
      "source": [
        "import numpy as np\n",
        "import torch\n",
        "\n",
        "# Sample input\n",
        "input_data = np.array([[1, 2, 3], [4, 5, 6]])\n",
        "\n",
        "# Softmax using the provided implementation\n",
        "output_custom = softmax_custom.updateOutput(input_data)\n",
        "\n",
        "\n",
        "# Softmax using torch\n",
        "input_torch = torch.from_numpy(input_data).float()  # Convert to float data type\n",
        "output_torch = torch.softmax(input_torch, dim=1)\n",
        "grad_output_torch = torch.ones_like(output_torch)  # Dummy gradient for demonstration\n",
        "grad_input_torch = grad_output_torch * (output_torch * (1 - output_torch))\n",
        "\n",
        "# Compare outputs\n",
        "print(\"Custom Softmax output:\")\n",
        "print(output_custom)\n",
        "print(\"Torch Softmax output:\")\n",
        "print(output_torch.numpy())\n",
        "\n",
        "# Compare gradients\n",
        "print(\"Custom Softmax gradient:\")\n",
        "print(grad_input_custom)\n",
        "print(\"Torch Softmax gradient:\")\n",
        "print(grad_input_torch.numpy())\n"
      ],
      "metadata": {
        "id": "ivnEv1uKtr4X",
        "outputId": "002d4eef-9a7e-4200-a78b-d2136c919e11",
        "colab": {
          "base_uri": "https://localhost:8080/"
        }
      },
      "execution_count": 151,
      "outputs": [
        {
          "output_type": "stream",
          "name": "stdout",
          "text": [
            "Custom Softmax output:\n",
            "[[0.09003057 0.24472847 0.66524096]\n",
            " [0.09003057 0.24472847 0.66524096]]\n",
            "Torch Softmax output:\n",
            "[[0.09003057 0.24472848 0.66524094]\n",
            " [0.09003057 0.24472848 0.66524094]]\n",
            "Custom Softmax gradient:\n",
            "[[0.90996943 0.75527153 0.33475904]\n",
            " [0.90996943 0.75527153 0.33475904]]\n",
            "Torch Softmax gradient:\n",
            "[[0.08192507 0.18483646 0.22269543]\n",
            " [0.08192507 0.18483646 0.22269543]]\n"
          ]
        }
      ]
    },
    {
      "cell_type": "code",
      "source": [
        "import torch\n",
        "\n",
        "input_data = np.array([[1, 2, 3], [4, 5, 6]])\n",
        "output_grad=np.ones_like(input_data)\n",
        "# Convert our random data into pytorch tensors.\n",
        "torch_input = torch.tensor(input_data, requires_grad=True, dtype=float)\n",
        "torch_output_grad = torch.from_numpy(output_grad)\n",
        "\n",
        "\n",
        "softmax_custom = SoftMax()\n",
        "output_custom = softmax_custom.updateOutput(input_data)\n",
        "grad_output_custom = np.ones_like(output_custom)  # Dummy gradient for demonstration\n",
        "grad_input_custom = softmax_custom.updateGradInput(input_data, grad_output_custom)\n",
        "\n",
        "# Compute softmax (retain grad to check the intermediate gradient).\n",
        "torch_output = torch.softmax(torch_input, axis=1)\n",
        "torch_output.retain_grad()\n",
        "\n",
        "# Sum the output with the output_grad coefficients.\n",
        "# This will make the gradient torch_output.grad be equal to output_grad.\n",
        "loss = (torch_output * torch_output_grad).sum()\n",
        "loss.backward()\n",
        "assert np.allclose(torch_output.grad.detach().numpy(), output_grad)\n",
        "\n",
        "# Now that we have correct output_grad, let's check the input gradient.\n",
        "assert np.allclose(torch_input.grad.detach().numpy(), grad_input_custom)\n"
      ],
      "metadata": {
        "id": "8cFm2duJ1AJz"
      },
      "execution_count": 170,
      "outputs": []
    },
    {
      "cell_type": "markdown",
      "metadata": {
        "id": "2AjKJLg1mzSs"
      },
      "source": [
        "## 3. LogSoftMax\n",
        "- input:   **`batch_size x n_feats`**\n",
        "- output: **`batch_size x n_feats`**\n",
        "\n",
        "$\\text{logsoftmax}(x)_i = \\log\\text{softmax}(x)_i = x_i - \\log {\\sum_j \\exp x_j}$\n",
        "\n",
        "The main goal of this layer is to be used in computation of log-likelihood loss."
      ]
    },
    {
      "cell_type": "code",
      "execution_count": 199,
      "metadata": {
        "collapsed": true,
        "id": "8RMN3r58mzSv"
      },
      "outputs": [],
      "source": [
        "class LogSoftMax(Module):\n",
        "    def __init__(self):\n",
        "         super(LogSoftMax, self).__init__()\n",
        "\n",
        "    def updateOutput(self, input):\n",
        "        # start with normalization for numerical stability\n",
        "        self.output = np.subtract(input, input.max(axis=1, keepdims=True))\n",
        "        self.output = self.output - np.log(np.sum(np.exp(self.output), axis=1, keepdims=True))\n",
        "        # Your code goes here. ################################################\n",
        "        return self.output\n",
        "\n",
        "    def updateGradInput(self, input, gradOutput):\n",
        "        # Your code goes here. ################################################\n",
        "        #self.gradInput = self.output - gradOutput\n",
        "        if self.output is None: self.updateOutput(input)\n",
        "        self.gradInput = gradOutput - np.exp(self.output) * np.sum(gradOutput, axis=1, keepdims=True)\n",
        "        return self.gradInput\n",
        "\n",
        "    def __repr__(self):\n",
        "        return \"LogSoftMax\"\n"
      ]
    },
    {
      "cell_type": "code",
      "source": [
        "import torch\n",
        "\n",
        "input_data = np.array([[1, 2, 3], [4, 5, 6]])\n",
        "output_grad=np.ones_like(input_data)\n",
        "# Convert our random data into pytorch tensors.\n",
        "torch_input = torch.tensor(input_data, requires_grad=True, dtype=float)\n",
        "torch_output_grad = torch.from_numpy(output_grad)\n",
        "\n",
        "\n",
        "softmax_custom = LogSoftMax()\n",
        "output_custom = softmax_custom.updateOutput(input_data)\n",
        "grad_output_custom = np.ones_like(output_custom)  # Dummy gradient for demonstration\n",
        "grad_input_custom = softmax_custom.updateGradInput(input_data, grad_output_custom)\n",
        "\n",
        "# Compute softmax (retain grad to check the intermediate gradient).\n",
        "torch_output = torch.log_softmax(torch_input, axis=1)\n",
        "torch_output.retain_grad()\n",
        "\n",
        "# Sum the output with the output_grad coefficients.\n",
        "# This will make the gradient torch_output.grad be equal to output_grad.\n",
        "loss = (torch_output * torch_output_grad).sum()\n",
        "loss.backward()\n",
        "\n",
        "print(grad_input_custom, torch_input.grad)\n",
        "\n",
        "\n",
        "assert np.allclose(torch_output.grad.detach().numpy(), output_grad)\n",
        "\n",
        "# Now that we have correct output_grad, let's check the input gradient.\n",
        "assert np.allclose(torch_input.grad.detach().numpy(), grad_input_custom)\n"
      ],
      "metadata": {
        "id": "uyV0wWXV4dsD",
        "outputId": "481afe2b-10d1-4d01-af82-39fc4633f631",
        "colab": {
          "base_uri": "https://localhost:8080/"
        }
      },
      "execution_count": 200,
      "outputs": [
        {
          "output_type": "stream",
          "name": "stdout",
          "text": [
            "[[ 0.72990828  0.26581459 -0.99572287]\n",
            " [ 0.72990828  0.26581459 -0.99572287]] tensor([[ 0.7299,  0.2658, -0.9957],\n",
            "        [ 0.7299,  0.2658, -0.9957]], dtype=torch.float64)\n"
          ]
        }
      ]
    },
    {
      "cell_type": "markdown",
      "metadata": {
        "id": "j4EGPGfPmzSx"
      },
      "source": [
        "## 4. Batch normalization\n",
        "One of the most significant recent ideas that impacted NNs a lot is [**Batch normalization**](http://arxiv.org/abs/1502.03167). The idea is simple, yet effective: the features should be whitened ($mean = 0$, $std = 1$) all the way through NN. This improves the convergence for deep models letting it train them for days but not weeks. **You are** to implement the first part of the layer: features normalization. The second part (`ChannelwiseScaling` layer) is implemented below.\n",
        "\n",
        "- input:   **`batch_size x n_feats`**\n",
        "- output: **`batch_size x n_feats`**\n",
        "\n",
        "The layer should work as follows. While training (`self.training == True`) it transforms input as $$y = \\frac{x - \\mu}  {\\sqrt{\\sigma + \\epsilon}}$$\n",
        "where $\\mu$ and $\\sigma$ - mean and variance of feature values in **batch** and $\\epsilon$ is just a small number for numericall stability. Also during training, layer should maintain exponential moving average values for mean and variance:\n",
        "```\n",
        "    self.moving_mean = self.moving_mean * alpha + batch_mean * (1 - alpha)\n",
        "    self.moving_variance = self.moving_variance * alpha + batch_variance * (1 - alpha)\n",
        "```\n",
        "During testing (`self.training == False`) the layer normalizes input using moving_mean and moving_variance.\n",
        "\n",
        "Note that decomposition of batch normalization on normalization itself and channelwise scaling here is just a common **implementation** choice. In general \"batch normalization\" always assumes normalization + scaling."
      ]
    },
    {
      "cell_type": "code",
      "execution_count": 35,
      "metadata": {
        "collapsed": true,
        "id": "0r6L0op0mzSy"
      },
      "outputs": [],
      "source": [
        "class BatchNormalization(Module):\n",
        "    EPS = 1e-3\n",
        "    def __init__(self, alpha = 0.):\n",
        "        super(BatchNormalization, self).__init__()\n",
        "        self.alpha = alpha\n",
        "        self.moving_mean = None\n",
        "        self.moving_variance = None\n",
        "\n",
        "    def updateOutput(self, input):\n",
        "        # Your code goes here. ################################################\n",
        "        # use self.EPS please\n",
        "        N = input.shape[0]\n",
        "        # training mode\n",
        "        if self.training==True:\n",
        "            self.b_mu = 1./N * np.sum(input, axis = 0, keepdims=True)\n",
        "            self.b_diff = input - self.b_mu\n",
        "            self.b_diffsq = self.b_diff**2\n",
        "            self.b_var = 1./N * np.sum(self.b_diffsq, axis=0, keepdims=True)\n",
        "            self.b_var_sqrt = np.sqrt(self.b_var + self.EPS)\n",
        "            self.b_varsqrt_inv = 1./self.b_var_sqrt\n",
        "            self.output = self.b_varsqrt_inv * self.b_diff\n",
        "            # update statistics\n",
        "\n",
        "            print(self.b_var, self.b_mu)\n",
        "            self.moving_mean = self.moving_mean * self.alpha + self.b_mu * (1. - self.alpha)\n",
        "            self.moving_variance = self.moving_variance * self.alpha + self.b_var * (1. - self.alpha)\n",
        "        else:\n",
        "            # inference mode\n",
        "            self.output = (input - self.moving_mean) * 1./np.sqrt(self.moving_variance + self.EPS)\n",
        "\n",
        "        return self.output\n",
        "\n",
        "    def updateGradInput(self, input, gradOutput):\n",
        "        #dx_norm == gradOutput\n",
        "        db_varsqrt_inv = (gradOutput * self.b_diff).sum(axis=0,keepdims=True)\n",
        "        db_diff1 = gradOutput * self.b_varsqrt_inv  # first graph edge that includes b_diff\n",
        "        db_var_sqrt = db_varsqrt_inv * -1./self.b_var_sqrt**2\n",
        "        db_var = 0.5 * 1. /self.b_var_sqrt\n",
        "        db_diffsq = 1./input.shape[0] * np.ones_like(input) * db_var\n",
        "        db_diff2 = 2*self.b_diff*db_diffsq  # second graph edge that includes b_diff\n",
        "        d_input1 = db_diff1+db_diff2  # also one of the edges with input\n",
        "        db_mu = -1*(db_diff1 + db_diff2).sum(axis=0)\n",
        "        d_input2 = 1/input.shape[0] * np.ones_like(input) * db_mu  # second input edge\n",
        "        self.gradInput = d_input1+d_input2  # summation of grads for two edges coming from the input\n",
        "\n",
        "        return self.gradInput\n",
        "\n",
        "    def __repr__(self):\n",
        "        return \"BatchNormalization\""
      ]
    },
    {
      "cell_type": "code",
      "source": [
        "def a():\n",
        "    import matplotlib.pyplot as plt\n",
        "\n",
        "    N = 100  # Number of points\n",
        "    mean = [2, 5]  # Mean of the distribution\n",
        "    cov = [[0.2, 0], [0, 1.5]]  # Covariance matrix\n",
        "    points = np.random.multivariate_normal(mean, cov, N)\n",
        "\n",
        "    x,y = points[:,0], points[:,1]\n",
        "\n",
        "    bm = BatchNormalization(alpha=0.01)\n",
        "    bm.moving_mean = np.array([2, 5.01])\n",
        "    bm.moving_variance = np.array([0.2, 122.5])\n",
        "\n",
        "    points_bm = bm.updateOutput(points)\n",
        "    x_bm = points_bm[:, 0]\n",
        "    y_bm = points_bm[:, 1]\n",
        "\n",
        "\n",
        "    fig, (ax1, ax2) = plt.subplots(1, 2, figsize=(8, 4))  # Adjust the figsize to your preference\n",
        "\n",
        "    ax1.scatter(x, y)\n",
        "    ax1.set_title(\"Input\")\n",
        "    ax1.set_aspect('equal')  # Set aspect ratio to 'equal' for square shape\n",
        "\n",
        "    ax2.scatter(x_bm, y_bm)\n",
        "    ax2.set_title(\"BNormalized\")\n",
        "    ax2.set_aspect('equal')  # Set aspect ratio to 'equal' for square shape\n",
        "\n",
        "    plt.tight_layout()\n",
        "    plt.show()"
      ],
      "metadata": {
        "colab": {
          "base_uri": "https://localhost:8080/",
          "height": 425
        },
        "id": "UO-2HbPSQzE1",
        "outputId": "6942f619-42d3-451f-f580-28c47b199d42"
      },
      "execution_count": 36,
      "outputs": [
        {
          "output_type": "stream",
          "name": "stdout",
          "text": [
            "[[0.14470355 1.26837181]] [[2.0128203  5.00191178]]\n"
          ]
        },
        {
          "output_type": "display_data",
          "data": {
            "text/plain": [
              "<Figure size 800x400 with 2 Axes>"
            ],
            "image/png": "[encoded data removed]"
          },
          "metadata": {}
        }
      ]
    },
    {
      "cell_type": "code",
      "source": [
        "def b():\n",
        "    bm.backward(points, 1)\n",
        "    mu = 1./N * np.sum(points_bm, axis = 0, keepdims=True)\n",
        "    diff = points_bm - mu\n",
        "    diff2 = diff**2\n",
        "    var = 1./N * np.sum(diff2, axis=0, keepdims=True)\n",
        "\n",
        "    mu, var\n"
      ],
      "metadata": {
        "colab": {
          "base_uri": "https://localhost:8080/"
        },
        "id": "MDN2GnaUYX0f",
        "outputId": "22668f4c-3294-40cf-e0be-25f84da7370b"
      },
      "execution_count": 38,
      "outputs": [
        {
          "output_type": "execute_result",
          "data": {
            "text/plain": [
              "(array([[-1.78523862e-15, -2.61943245e-16]]),\n",
              " array([[0.99313675, 0.99921221]]))"
            ]
          },
          "metadata": {},
          "execution_count": 38
        }
      ]
    },
    {
      "cell_type": "code",
      "source": [
        "def c():\n",
        "    mu = 1./N * np.sum(points, axis = 0, keepdims=True)\n",
        "    diff = points-mu\n",
        "    diff2 = diff**2\n",
        "    var = 1./N * np.sum(diff2, axis=0, keepdims=True)\n",
        "\n",
        "    mu, var"
      ],
      "metadata": {
        "colab": {
          "base_uri": "https://localhost:8080/"
        },
        "id": "MAcNxkOebeCH",
        "outputId": "d8d01eaa-ed66-410d-fbf6-41ce45a8a9a0"
      },
      "execution_count": 39,
      "outputs": [
        {
          "output_type": "execute_result",
          "data": {
            "text/plain": [
              "(array([[2.0128203 , 5.00191178]]), array([[0.14470355, 1.26837181]]))"
            ]
          },
          "metadata": {},
          "execution_count": 39
        }
      ]
    },
    {
      "cell_type": "code",
      "source": [],
      "metadata": {
        "id": "y14szPrfZBNs"
      },
      "execution_count": 39,
      "outputs": []
    },
    {
      "cell_type": "code",
      "execution_count": 40,
      "metadata": {
        "collapsed": true,
        "id": "iDXjX_CZmzSz"
      },
      "outputs": [],
      "source": [
        "class ChannelwiseScaling(Module):\n",
        "    \"\"\"\n",
        "       Implements linear transform of input y = \\gamma * x + \\beta\n",
        "       where \\gamma, \\beta - learnable vectors of length x.shape[-1]\n",
        "    \"\"\"\n",
        "    def __init__(self, n_out):\n",
        "        super(ChannelwiseScaling, self).__init__()\n",
        "\n",
        "        stdv = 1./np.sqrt(n_out)\n",
        "        self.gamma = np.random.uniform(-stdv, stdv, size=n_out)\n",
        "        self.beta = np.random.uniform(-stdv, stdv, size=n_out)\n",
        "\n",
        "        self.gradGamma = np.zeros_like(self.gamma)\n",
        "        self.gradBeta = np.zeros_like(self.beta)\n",
        "\n",
        "    def updateOutput(self, input):\n",
        "        self.output = input * self.gamma + self.beta\n",
        "        return self.output\n",
        "\n",
        "    def updateGradInput(self, input, gradOutput):\n",
        "        self.gradInput = gradOutput * self.gamma\n",
        "        return self.gradInput\n",
        "\n",
        "    def accGradParameters(self, input, gradOutput):\n",
        "        self.gradBeta = np.sum(gradOutput, axis=0)\n",
        "        self.gradGamma = np.sum(gradOutput*input, axis=0)\n",
        "\n",
        "    def zeroGradParameters(self):\n",
        "        self.gradGamma.fill(0)\n",
        "        self.gradBeta.fill(0)\n",
        "\n",
        "    def getParameters(self):\n",
        "        return [self.gamma, self.beta]\n",
        "\n",
        "    def getGradParameters(self):\n",
        "        return [self.gradGamma, self.gradBeta]\n",
        "\n",
        "    def __repr__(self):\n",
        "        return \"ChannelwiseScaling\""
      ]
    },
    {
      "cell_type": "markdown",
      "metadata": {
        "id": "XzReqS7HmzS1"
      },
      "source": [
        "Practical notes. If BatchNormalization is placed after a linear transformation layer (including dense layer, convolutions, channelwise scaling) that implements function like `y = weight * x + bias`, than bias adding become useless and could be omitted since its effect will be discarded while batch mean subtraction. If BatchNormalization (followed by `ChannelwiseScaling`) is placed before a layer that propagates scale (including ReLU, LeakyReLU) followed by any linear transformation layer than parameter `gamma` in `ChannelwiseScaling` could be freezed since it could be absorbed into the linear transformation layer."
      ]
    },
    {
      "cell_type": "markdown",
      "metadata": {
        "id": "XSvs3PcTmzS2"
      },
      "source": [
        "## 5. Dropout\n",
        "Implement [**dropout**](https://www.cs.toronto.edu/~hinton/absps/JMLRdropout.pdf). The idea and implementation is really simple: just multimply the input by $Bernoulli(p)$ mask. Here $p$ is probability of an element to be zeroed.\n",
        "\n",
        "This has proven to be an effective technique for regularization and preventing the co-adaptation of neurons.\n",
        "\n",
        "While training (`self.training == True`) it should sample a mask on each iteration (for every batch), zero out elements and multiply elements by $1 / (1 - p)$. The latter is needed for keeping mean values of features close to mean values which will be in test mode. When testing this module should implement identity transform i.e. `self.output = input`.\n",
        "\n",
        "- input:   **`batch_size x n_feats`**\n",
        "- output: **`batch_size x n_feats`**"
      ]
    },
    {
      "cell_type": "code",
      "source": [],
      "metadata": {
        "colab": {
          "base_uri": "https://localhost:8080/"
        },
        "id": "6QdZ-lskMEwj",
        "outputId": "46a8a964-d288-408d-e5bc-c9da27014f85"
      },
      "execution_count": 41,
      "outputs": [
        {
          "output_type": "execute_result",
          "data": {
            "text/plain": [
              "(array([0, 1, 1, 1, 0]),\n",
              " array([[0.        , 0.68730316, 0.18171111, 0.68425091, 0.        ],\n",
              "        [0.        , 0.42656155, 0.85657482, 0.86598777, 0.        ],\n",
              "        [0.        , 0.58514326, 0.2553581 , 0.67645844, 0.        ]]))"
            ]
          },
          "metadata": {},
          "execution_count": 41
        }
      ]
    },
    {
      "cell_type": "code",
      "execution_count": 42,
      "metadata": {
        "id": "WOTMS7hlmzS4"
      },
      "outputs": [],
      "source": [
        "class Dropout(Module):\n",
        "    def __init__(self, p=0.5):\n",
        "        super(Dropout, self).__init__()\n",
        "\n",
        "        self.p = p\n",
        "        self.mask = None\n",
        "\n",
        "    def updateOutput(self, input):\n",
        "        # Your code goes here. ################################################\n",
        "        if self.training == True:\n",
        "            self.mask = np.random.binomial(1, self.p, input.shape[-1])\n",
        "            self.output = self.mask*input/(1 - self.p)\n",
        "        else:\n",
        "            self.output = input\n",
        "\n",
        "        return  self.output\n",
        "\n",
        "    def updateGradInput(self, input, gradOutput):  # NxD\n",
        "        # Your code goes here. ################################################\n",
        "        self.gradinput = self.mask*gradOutput  # NxD\n",
        "        return self.gradInput\n",
        "\n",
        "    def __repr__(self):\n",
        "        return \"Dropout\""
      ]
    },
    {
      "cell_type": "markdown",
      "metadata": {
        "id": "VcbE3eHymzS6"
      },
      "source": [
        "# Activation functions"
      ]
    },
    {
      "cell_type": "markdown",
      "metadata": {
        "id": "nnaW8z5fmzS8"
      },
      "source": [
        "Here's the complete example for the **Rectified Linear Unit** non-linearity (aka **ReLU**):"
      ]
    },
    {
      "cell_type": "code",
      "execution_count": 77,
      "metadata": {
        "collapsed": true,
        "id": "j3AEkPmkmzS9"
      },
      "outputs": [],
      "source": [
        "class ReLU(Module):\n",
        "    def __init__(self):\n",
        "         super(ReLU, self).__init__()\n",
        "\n",
        "    def updateOutput(self, input):\n",
        "        self.output = np.maximum(input, 0)\n",
        "        return self.output\n",
        "\n",
        "    def updateGradInput(self, input, gradOutput):\n",
        "        self.gradInput = np.multiply(gradOutput , input > 0)\n",
        "        return self.gradInput\n",
        "\n",
        "    def __repr__(self):\n",
        "        return \"ReLU\""
      ]
    },
    {
      "cell_type": "markdown",
      "metadata": {
        "id": "eGgM5gakmzS-"
      },
      "source": [
        "## 6. Leaky ReLU\n",
        "Implement [**Leaky Rectified Linear Unit**](http://en.wikipedia.org/wiki%2FRectifier_%28neural_networks%29%23Leaky_ReLUs). Expriment with slope."
      ]
    },
    {
      "cell_type": "code",
      "execution_count": 44,
      "metadata": {
        "id": "kjXoxWpYmzTA"
      },
      "outputs": [],
      "source": [
        "class LeakyReLU(Module):\n",
        "    def __init__(self, slope = 0.03):\n",
        "        super(LeakyReLU, self).__init__()\n",
        "        self.slope = slope\n",
        "\n",
        "    def updateOutput(self, input):\n",
        "        # Your code goes here. ################################################\n",
        "        self.output = max(self.slope*input, input)\n",
        "        return self.output\n",
        "\n",
        "    def updateGradInput(self, input, gradOutput):\n",
        "        # Your code goes here. ################################################\n",
        "        self.gradInput = np.where(x > 0, 1, self.slope) * gradOutput\n",
        "        return self.gradInput\n",
        "\n",
        "    def __repr__(self):\n",
        "        return \"LeakyReLU\""
      ]
    },
    {
      "cell_type": "markdown",
      "metadata": {
        "id": "RrHPgnKFmzTC"
      },
      "source": [
        "## 7. ELU\n",
        "Implement [**Exponential Linear Units**](http://arxiv.org/abs/1511.07289) activations."
      ]
    },
    {
      "cell_type": "code",
      "execution_count": 45,
      "metadata": {
        "collapsed": true,
        "id": "TyJPeTNEmzTD"
      },
      "outputs": [],
      "source": [
        "class ELU(Module):\n",
        "    def __init__(self, alpha = 1.0):\n",
        "        super(ELU, self).__init__()\n",
        "\n",
        "        self.alpha = alpha\n",
        "\n",
        "    def updateOutput(self, input):\n",
        "        # Your code goes here. ################################################\n",
        "        self.output = np.max(input, self.alpha*(np.exp(input) -1))\n",
        "        return self.output\n",
        "\n",
        "    def updateGradInput(self, input, gradOutput):\n",
        "        # Your code goes here. ################################################\n",
        "        self.gradInput = input * np.exp(input) * gradOutput\n",
        "        return self.gradInput\n",
        "\n",
        "    def __repr__(self):\n",
        "        return \"ELU\""
      ]
    },
    {
      "cell_type": "markdown",
      "metadata": {
        "id": "a0_zFAE0mzTE"
      },
      "source": [
        "## 8. SoftPlus\n",
        "Implement [**SoftPlus**](https://en.wikipedia.org/wiki%2FRectifier_%28neural_networks%29) activations. Look, how they look a lot like ReLU."
      ]
    },
    {
      "cell_type": "code",
      "execution_count": 46,
      "metadata": {
        "collapsed": true,
        "id": "mR6P-EnwmzTF"
      },
      "outputs": [],
      "source": [
        "class SoftPlus(Module):\n",
        "    def __init__(self):\n",
        "        super(SoftPlus, self).__init__()\n",
        "\n",
        "    def updateOutput(self, input):\n",
        "        # Your code goes here. ################################################\n",
        "        self.output = np.log(1. + np.exp(input))\n",
        "        return  self.output\n",
        "\n",
        "    def updateGradInput(self, input, gradOutput):\n",
        "        # Your code goes here. ################################################\n",
        "        1./(1. + np.exp(input)) * np.exp(input) * gradOutput\n",
        "        return self.gradInput\n",
        "\n",
        "    def __repr__(self):\n",
        "        return \"SoftPlus\""
      ]
    },
    {
      "cell_type": "markdown",
      "metadata": {
        "id": "1_nxfVAZmzTF"
      },
      "source": [
        "# Criterions"
      ]
    },
    {
      "cell_type": "markdown",
      "metadata": {
        "id": "OwGzK6pZmzTH"
      },
      "source": [
        "Criterions are used to score the models answers."
      ]
    },
    {
      "cell_type": "code",
      "execution_count": 120,
      "metadata": {
        "id": "au9yhKbamzTI"
      },
      "outputs": [],
      "source": [
        "class Criterion(object):\n",
        "    def __init__ (self):\n",
        "        self.output = None\n",
        "        self.gradInput = None\n",
        "\n",
        "    def forward(self, input, target):\n",
        "        \"\"\"\n",
        "            Given an input and a target, compute the loss function\n",
        "            associated to the criterion and return the result.\n",
        "\n",
        "            For consistency this function should not be overrided,\n",
        "            all the code goes in `updateOutput`.\n",
        "        \"\"\"\n",
        "        return self.updateOutput(input, target)\n",
        "\n",
        "    def backward(self, input, target):\n",
        "        \"\"\"\n",
        "            Given an input and a target, compute the gradients of the loss function\n",
        "            associated to the criterion and return the result.\n",
        "\n",
        "            For consistency this function should not be overrided,\n",
        "            all the code goes in `updateGradInput`.\n",
        "        \"\"\"\n",
        "        return self.updateGradInput(input, target)\n",
        "\n",
        "    def updateOutput(self, input, target):\n",
        "        \"\"\"\n",
        "        Function to override.\n",
        "        \"\"\"\n",
        "        return self.output\n",
        "\n",
        "    def updateGradInput(self, input, target):\n",
        "        \"\"\"\n",
        "        Function to override.\n",
        "        \"\"\"\n",
        "        return self.gradInput\n",
        "\n",
        "    def __repr__(self):\n",
        "        \"\"\"\n",
        "        Pretty printing. Should be overrided in every module if you want\n",
        "        to have readable description.\n",
        "        \"\"\"\n",
        "        return \"Criterion\""
      ]
    },
    {
      "cell_type": "markdown",
      "metadata": {
        "id": "ojZt3yiymzTJ"
      },
      "source": [
        "The **MSECriterion**, which is basic L2 norm usually used for regression, is implemented here for you.\n",
        "- input:   **`batch_size x n_feats`**\n",
        "- target: **`batch_size x n_feats`**\n",
        "- output: **scalar**"
      ]
    },
    {
      "cell_type": "code",
      "execution_count": 121,
      "metadata": {
        "id": "tf1KXWOEmzTL"
      },
      "outputs": [],
      "source": [
        "class MSECriterion(Criterion):\n",
        "    def __init__(self):\n",
        "        super(MSECriterion, self).__init__()\n",
        "\n",
        "    def updateOutput(self, input, target):\n",
        "        self.output = np.sum(np.power(input - target,2)) / input.shape[0]\n",
        "        return self.output\n",
        "\n",
        "    def updateGradInput(self, input, target):\n",
        "        self.gradInput  = (input - target) * 2 / input.shape[0]\n",
        "        return self.gradInput\n",
        "\n",
        "    def __repr__(self):\n",
        "        return \"MSECriterion\""
      ]
    },
    {
      "cell_type": "markdown",
      "metadata": {
        "id": "qKZi4fyWmzTN"
      },
      "source": [
        "## 9. Negative LogLikelihood criterion (numerically unstable)\n",
        "You task is to implement the **ClassNLLCriterion**. It should implement [multiclass log loss](http://scikit-learn.org/stable/modules/model_evaluation.html#log-loss). Nevertheless there is a sum over `y` (target) in that formula,\n",
        "remember that targets are one-hot encoded. This fact simplifies the computations a lot. Note, that criterions are the only places, where you divide by batch size. Also there is a small hack with adding small number to probabilities to avoid computing log(0).\n",
        "- input:   **`batch_size x n_feats`** - probabilities\n",
        "- target: **`batch_size x n_feats`** - one-hot representation of ground truth\n",
        "- output: **scalar**\n",
        "\n"
      ]
    },
    {
      "cell_type": "code",
      "execution_count": 135,
      "metadata": {
        "id": "642Nrfa7mzTP"
      },
      "outputs": [],
      "source": [
        "class ClassNLLCriterionUnstable(Criterion):\n",
        "    EPS = 1e-15\n",
        "    def __init__(self):\n",
        "        super(ClassNLLCriterionUnstable, self).__init__()\n",
        "\n",
        "    def updateOutput(self, input, target):\n",
        "\n",
        "        # Use this trick to avoid numerical errors\n",
        "        input_clamp = np.clip(input, self.EPS, 1 - self.EPS)\n",
        "\n",
        "        self.output = -np.sum(np.log(3input_clamp[target.astype(bool)]))\n",
        "\n",
        "        return self.output\n",
        "\n",
        "    def updateGradInput(self, input, target):\n",
        "        # Use this trick to avoid numerical errors\n",
        "        input_clamp = np.clip(input, self.EPS, 1 - self.EPS)\n",
        "        self.gradInput = np.zeros_like(input)\n",
        "        self.gradInput[target.astype(bool)] = -1. / input_clamp[target.astype(bool)]\n",
        "\n",
        "        return self.gradInput\n",
        "\n",
        "    def __repr__(self):\n",
        "        return \"ClassNLLCriterionUnstable\""
      ]
    },
    {
      "cell_type": "code",
      "source": [
        "input = np.array([1,2,3,4])\n",
        "target = []"
      ],
      "metadata": {
        "id": "0QG7A29lufe5"
      },
      "execution_count": 134,
      "outputs": []
    },
    {
      "cell_type": "markdown",
      "metadata": {
        "id": "K9kRWNV4mzTQ"
      },
      "source": [
        "## 10. Negative LogLikelihood criterion (numerically stable)\n",
        "- input:   **`batch_size x n_feats`** - log probabilities\n",
        "- target: **`batch_size x n_feats`** - one-hot representation of ground truth\n",
        "- output: **scalar**\n",
        "\n",
        "Task is similar to the previous one, but now the criterion input is the output of log-softmax layer. This decomposition allows us to avoid problems with computation of forward and backward of log()."
      ]
    },
    {
      "cell_type": "code",
      "execution_count": 129,
      "metadata": {
        "collapsed": true,
        "id": "A8glT0dhmzTQ"
      },
      "outputs": [],
      "source": [
        "class ClassNLLCriterion(Criterion):\n",
        "    def __init__(self):\n",
        "        super(ClassNLLCriterion, self).__init__()\n",
        "\n",
        "    def updateOutput(self, input, target):\n",
        "        # Your code goes here. ################################################\n",
        "        self.output = -input[target.astype(bool)].sum()\n",
        "        return self.output\n",
        "\n",
        "    def updateGradInput(self, input, target):\n",
        "        # Your code goes here. ################################################\n",
        "        self.gradInput = np.zeros_like(input)\n",
        "        self.gradInput[target.astype(bool)] = 1.\n",
        "        return self.gradInput\n",
        "\n",
        "    def __repr__(self):\n",
        "        return \"ClassNLLCriterion\""
      ]
    },
    {
      "cell_type": "code",
      "source": [
        "# Toy example\n",
        "input = np.array([0.5, 0.2, 0.3])\n",
        "target = np.array([False, True, False])\n",
        "\n",
        "criterion = ClassNLLCriterion()\n",
        "output = criterion.updateOutput(input, target)\n",
        "gradInput = criterion.updateGradInput(input, target)\n",
        "\n",
        "print(\"Output:\", output)\n",
        "print(\"GradInput:\", gradInput)"
      ],
      "metadata": {
        "id": "KGFQPKolsrgK",
        "outputId": "ab2ab6aa-2557-4b13-fe1d-69095e63d8a9",
        "colab": {
          "base_uri": "https://localhost:8080/"
        }
      },
      "execution_count": 130,
      "outputs": [
        {
          "output_type": "stream",
          "name": "stdout",
          "text": [
            "Output: -0.2\n",
            "GradInput: [0. 1. 0.]\n"
          ]
        }
      ]
    },
    {
      "cell_type": "markdown",
      "metadata": {
        "id": "_R6L9UbCmzTR"
      },
      "source": [
        "# Optimizers"
      ]
    },
    {
      "cell_type": "markdown",
      "metadata": {
        "id": "uErYZRz0mzTS"
      },
      "source": [
        "### SGD optimizer with momentum\n",
        "- `variables` - list of lists of variables (one list per layer)\n",
        "- `gradients` - list of lists of current gradients (same structure as for `variables`, one array for each var)\n",
        "- `config` - dict with optimization parameters (`learning_rate` and `momentum`)\n",
        "- `state` - dict with optimizator state (used to save accumulated gradients)"
      ]
    },
    {
      "cell_type": "code",
      "execution_count": 52,
      "metadata": {
        "id": "M3XXgTKZmzTU"
      },
      "outputs": [],
      "source": [
        "def sgd_momentum(variables, gradients, config, state):\n",
        "    # 'variables' and 'gradients' have complex structure, accumulated_grads will be stored in a simpler one\n",
        "    state.setdefault('accumulated_grads', {})\n",
        "\n",
        "    var_index = 0\n",
        "    for current_layer_vars, current_layer_grads in zip(variables, gradients):\n",
        "        for current_var, current_grad in zip(current_layer_vars, current_layer_grads):\n",
        "\n",
        "            old_grad = state['accumulated_grads'].setdefault(var_index, np.zeros_like(current_grad))\n",
        "\n",
        "            np.add(config['momentum'] * old_grad, config['learning_rate'] * current_grad, out=old_grad)\n",
        "\n",
        "            current_var -= old_grad\n",
        "            var_index += 1"
      ]
    },
    {
      "cell_type": "markdown",
      "metadata": {
        "id": "3Zq6IegtmzTV"
      },
      "source": [
        "## 11. [Adam](https://arxiv.org/pdf/1412.6980.pdf) optimizer\n",
        "- `variables` - list of lists of variables (one list per layer)\n",
        "- `gradients` - list of lists of current gradients (same structure as for `variables`, one array for each var)\n",
        "- `config` - dict with optimization parameters (`learning_rate`, `beta1`, `beta2`, `epsilon`)\n",
        "- `state` - dict with optimizator state (used to save 1st and 2nd moment for vars)\n",
        "\n",
        "Formulas for optimizer:\n",
        "\n",
        "Current step learning rate: $$\\text{lr}_t = \\text{learning_rate} * \\frac{\\sqrt{1-\\beta_2^t}} {1-\\beta_1^t}$$\n",
        "First moment of var: $$\\mu_t = \\beta_1 * \\mu_{t-1} + (1 - \\beta_1)*g$$\n",
        "Second moment of var: $$v_t = \\beta_2 * v_{t-1} + (1 - \\beta_2)*g*g$$\n",
        "New values of var: $$\\text{variable} = \\text{variable} - \\text{lr}_t * \\frac{m_t}{\\sqrt{v_t} + \\epsilon}$$"
      ]
    },
    {
      "cell_type": "code",
      "execution_count": 53,
      "metadata": {
        "id": "VGbUC-pWmzTW"
      },
      "outputs": [],
      "source": [
        "def adam_optimizer(variables, gradients, config, state):\n",
        "    # 'variables' and 'gradients' have complex structure, accumulated_grads will be stored in a simpler one\n",
        "    state.setdefault('m', {})  # first moment vars\n",
        "    state.setdefault('v', {})  # second moment vars\n",
        "    state.setdefault('t', 0)   # timestamp\n",
        "    state['t'] += 1\n",
        "    for k in ['learning_rate', 'beta1', 'beta2', 'epsilon']:\n",
        "        assert k in config, config.keys()\n",
        "\n",
        "    var_index = 0\n",
        "    lr_t = config['learning_rate'] * np.sqrt(1 - config['beta2']**state['t']) / (1 - config['beta1']**state['t'])\n",
        "    for current_layer_vars, current_layer_grads in zip(variables, gradients):\n",
        "        for current_var, current_grad in zip(current_layer_vars, current_layer_grads):\n",
        "            var_first_moment = state['m'].setdefault(var_index, np.zeros_like(current_grad))\n",
        "            var_second_moment = state['v'].setdefault(var_index, np.zeros_like(current_grad))\n",
        "\n",
        "            # <YOUR CODE> #######################################\n",
        "            # update `current_var_first_moment`, `var_second_moment` and `current_var` values\n",
        "            np.add(config['beta1'] * state['m'][state['t']-1], (1. - config['beta1']) * current_grad, out=var_first_moment)\n",
        "            np.add(config['beta2'] * state['v'][state['t']-1], (1. - config['beta2']) * current_grad * current_grad, out=var_second_moment)\n",
        "            current_var -= lr_t * var_first_moment / (np.sqrt(var_second_moment) + config['epsilon'])\n",
        "            #np.add(... , out=var_first_moment)\n",
        "            #np.add(... , out=var_second_moment)\n",
        "            #current_var -= ...\n",
        "            state['t'] += 1\n",
        "            # small checks that you've updated the state; use np.add for rewriting np.arrays values\n",
        "            assert var_first_moment is state['m'].get(var_index)\n",
        "            assert var_second_moment is state['v'].get(var_index)\n",
        "            var_index += 1\n"
      ]
    },
    {
      "cell_type": "markdown",
      "metadata": {
        "id": "2_gqAZSHmzTY"
      },
      "source": [
        "# Layers for advanced track homework\n",
        "You **don't need** to implement it if you are working on `homework_main-basic.ipynb`"
      ]
    },
    {
      "cell_type": "markdown",
      "metadata": {
        "id": "BhXc16EomzTY"
      },
      "source": [
        "## 12. Conv2d [Advanced]\n",
        "- input:   **`batch_size x in_channels x h x w`**\n",
        "- output: **`batch_size x out_channels x h x w`**\n",
        "\n",
        "You should implement something like pytorch `Conv2d` layer with `stride=1` and zero-padding outside of image using `scipy.signal.correlate` function.\n",
        "\n",
        "Practical notes:\n",
        "- While the layer name is \"convolution\", the most of neural network frameworks (including tensorflow and pytorch) implement operation that is called [correlation](https://en.wikipedia.org/wiki/Cross-correlation#Cross-correlation_of_deterministic_signals) in signal processing theory. So **don't use** `scipy.signal.convolve` since it implements [convolution](https://en.wikipedia.org/wiki/Convolution#Discrete_convolution) in terms of signal processing.\n",
        "- It may be convenient to use `skimage.util.pad` for zero-padding.\n",
        "- It's rather ok to implement convolution over 4d array using 2 nested loops: one over batch size dimension and another one over output filters dimension\n",
        "- Having troubles with understanding how to implement the layer?\n",
        " - Check the last year video of lecture 3 (starting from ~1:14:20)\n",
        " - May the google be with you"
      ]
    },
    {
      "cell_type": "code",
      "source": [
        "import scipy.signal\n"
      ],
      "metadata": {
        "id": "jIcZtL0mwrsV"
      },
      "execution_count": 54,
      "outputs": []
    },
    {
      "cell_type": "code",
      "source": [
        "def d():\n",
        "    conv = torch.nn.Conv2d(\n",
        "        in_channels=1,\n",
        "        out_channels=1,\n",
        "        kernel_size=3,\n",
        "        bias=False,\n",
        "        stride = 1,\n",
        "        padding_mode='zeros',\n",
        "        padding=0\n",
        "    )\n",
        "\n",
        "    xt = torch.tensor([[[1, 2, 3], [4, 5, 6], [7, 8, 9]]], dtype=torch.float32)\n",
        "    wt = torch.tensor([[[[1, 2, 3], [4, 5, 6], [7, 8, 9]]]], dtype=torch.float32)\n",
        "\n",
        "    xt.requires_grad = True\n",
        "    conv.weight = torch.nn.Parameter(w)\n",
        "    out = conv(x)\n",
        "\n",
        "    x = np.array([[[1, 2, 3], [4, 5, 6], [7, 8, 9]]])\n",
        "    w = np.array([[[1, 2, 3], [4, 5, 6], [7, 8, 9]]])\n",
        "    out2 = correlate(x, w, mode='valid')\n",
        "\n",
        "    x = np.array([[[1, 2, 3], [4, 5, 6], [7, 8, 9]]])\n",
        "    w = np.array([[[1, 2, 3], [4, 5, 6], [7, 8, 9]]])\n",
        "    out2 = correlate(x, w, mode='valid')\n",
        "    out, out2"
      ],
      "metadata": {
        "id": "hM54gkXGyT9Y"
      },
      "execution_count": null,
      "outputs": []
    },
    {
      "cell_type": "code",
      "execution_count": 204,
      "metadata": {
        "id": "feKFYWYymzTZ"
      },
      "outputs": [],
      "source": [
        "  import scipy as sp\n",
        "  import scipy.signal\n",
        "  import skimage\n",
        "\n",
        "  class Conv2d(Module):\n",
        "      def __init__(self, in_channels, out_channels, kernel_size):\n",
        "          super(Conv2d, self).__init__()\n",
        "          assert kernel_size % 2 == 1, kernel_size\n",
        "\n",
        "          stdv = 1./np.sqrt(in_channels)\n",
        "          self.W = np.random.uniform(-stdv, stdv, size = (out_channels, in_channels, kernel_size, kernel_size)) # out_channels = filters num\n",
        "          self.b = np.random.uniform(-stdv, stdv, size=(out_channels,)) # one bias term per filter\n",
        "          self.in_channels = in_channels\n",
        "          self.out_channels = out_channels\n",
        "          self.kernel_size = kernel_size\n",
        "\n",
        "          self.gradW = np.zeros_like(self.W)\n",
        "          self.gradb = np.zeros_like(self.b)\n",
        "\n",
        "      def updateOutput(self, input):\n",
        "          pad_size = self.kernel_size // 2\n",
        "          # YOUR CODE ##############################\n",
        "          padded_input = np.pad(input, ((0,0),(0,0),(pad_size,pad_size), (pad_size,pad_size))) # pad only spacial dimensions\n",
        "          # print(f'input:{input.shape}, W:{self.W.shape}, padded:{padded_input.shape}')\n",
        "          # print(padded_input)\n",
        "          self.output = scipy.signal.correlate(padded_input, self.W , mode='valid') # if it was a CORRELATION func then we would NOT rotate W by 180 degrees\n",
        "          self.output = self.output+self.b\n",
        "          print(f'out:{self.output.shape}')\n",
        "          # 1. zero-pad the input array\n",
        "          # 2. compute convolution using scipy.signal.correlate(... , mode='valid')\n",
        "          # 3. add bias value\n",
        "          # self.output = ...\n",
        "\n",
        "          return self.output\n",
        "\n",
        "      def updateGradInput(self, input, gradOutput):\n",
        "          pad_size = self.kernel_size // 2\n",
        "          # YOUR CODE ##############################\n",
        "          # 1. zero-pad the gradOutput\n",
        "          padded_gradOutput = np.pad(gradOutput, pad_size)\n",
        "          # 2. compute 'self.gradInput' value using scipy.signal.correlate(... , mode='valid')\n",
        "          self.gradInput = scipy.signal.correlate(padded_gradOutput, self.W , mode='valid')  # if it was a CORRELATION func then we WOULD rotate W by 180 degrees\n",
        "          return self.gradInput\n",
        "\n",
        "      def accGradParameters(self, input, gradOutput):\n",
        "          pad_size = self.kernel_size // 2\n",
        "          # YOUR CODE #############\n",
        "          padded_input = np.pad(input, ((0,0),(0,0),(pad_size,pad_size), (pad_size,pad_size))) # pad only spacial dimensions\n",
        "\n",
        "          self.gradW = scipy.signal.correlate(padded_input, gradOutput, mode='valid')\n",
        "          print(gradOutput.shape)\n",
        "          print(\"COMPUTING GRADBBB!\")\n",
        "          print(gradOutput, gradOutput.shape)\n",
        "          self.gradb = gradOutput.sum(axis=(2,3))\n",
        "          # 1. zero-pad the input\n",
        "          # 2. compute 'self.gradW' using scipy.signal.correlate(... , mode='valid')\n",
        "          # 3. compute 'self.gradb' - formulas like in Linear of ChannelwiseScaling layers\n",
        "          pass\n",
        "\n",
        "      def zeroGradParameters(self):\n",
        "          self.gradW.fill(0)\n",
        "          self.gradb.fill(0)\n",
        "\n",
        "      def getParameters(self):\n",
        "          return [self.W, self.b]\n",
        "\n",
        "      def getGradParameters(self):\n",
        "          return [self.gradW, self.gradb]\n",
        "\n",
        "      def __repr__(self):\n",
        "          s = self.W.shape\n",
        "          q = 'Conv2d %d -> %d' %(s[1],s[0])\n",
        "          return q"
      ]
    },
    {
      "cell_type": "code",
      "source": [
        "import torch\n",
        "import torch.nn as nn\n",
        "import numpy as np"
      ],
      "metadata": {
        "id": "F115JxHW8ZXJ"
      },
      "execution_count": 1,
      "outputs": []
    },
    {
      "cell_type": "code",
      "source": [
        "def d():\n",
        "    toy_input = np.array([[[[1, 2, 3],\n",
        "                          [4, 5, 6],\n",
        "                          [7, 8, 9]]]])\n",
        "    toy_weights = np.array([[[[1, 5, 5],\n",
        "                          [1, 1, 6],\n",
        "                          [7, 1, 1]]]])\n",
        "\n",
        "    toy_input_torch = torch.tensor(toy_input, dtype=torch.float32)\n",
        "    toy_weight_torch =  torch.tensor(toy_weights, dtype=torch.float32)\n",
        "\n",
        "    handmade_conv = Conv2d(in_channels=1, out_channels=1, kernel_size=3)\n",
        "    handmade_conv.W = toy_weights\n",
        "    handmade_output = handmade_conv.updateOutput(toy_input)\n",
        "    hg = handmade_conv.backward(toy_input, np.ones_like(handmade_output))\n",
        "\n",
        "\n",
        "    torch_conv = nn.Conv2d(in_channels=1, out_channels=1, kernel_size=3, padding=(3 - 1) // 2)  # Adjust padding to match output size\n",
        "    torch_conv.weight.data = toy_weight_torch\n",
        "    torch_output = torch_conv(toy_input_torch)\n",
        "    torch_output.backward(torch.ones_like(torch_output))\n",
        "    tg = torch_conv.weight.grad\n",
        "\n",
        "    #handmade_output, torch_output, handmade_conv.gradW, tg\n",
        "    handmade_conv.gradb, torch_conv.bias.grad"
      ],
      "metadata": {
        "colab": {
          "base_uri": "https://localhost:8080/"
        },
        "id": "QvV0ULg58HJx",
        "outputId": "2d78e11d-325b-46d1-9f44-89f3da591e29"
      },
      "execution_count": 203,
      "outputs": [
        {
          "output_type": "stream",
          "name": "stdout",
          "text": [
            "out:(1, 1, 3, 3)\n",
            "(1, 1, 3, 3)\n",
            "COMPUTING GRADBBB!\n",
            "[[[[1. 1. 1.]\n",
            "   [1. 1. 1.]\n",
            "   [1. 1. 1.]]]] (1, 1, 3, 3)\n"
          ]
        },
        {
          "output_type": "execute_result",
          "data": {
            "text/plain": [
              "(array([[9.]]), tensor([9.]))"
            ]
          },
          "metadata": {},
          "execution_count": 203
        }
      ]
    },
    {
      "cell_type": "markdown",
      "metadata": {
        "id": "vumS_U1_mzTb"
      },
      "source": [
        "## 13. MaxPool2d [Advanced]\n",
        "- input:   **`batch_size x n_input_channels x h x w`**\n",
        "- output: **`batch_size x n_output_channels x h // kern_size x w // kern_size`**\n",
        "\n",
        "You are to implement simplified version of pytorch `MaxPool2d` layer with stride = kernel_size. Please note, that it's not a common case that stride = kernel_size: in AlexNet and ResNet kernel_size for max-pooling was set to 3, while stride was set to 2. We introduce this restriction to make implementation simplier.\n",
        "\n",
        "Practical notes:\n",
        "- During forward pass what you need to do is just to reshape the input tensor to `[n, c, h / kern_size, kern_size, w / kern_size, kern_size]`, swap two axes and take maximums over the last two dimensions. Reshape + axes swap is sometimes called space-to-batch transform.\n",
        "- During backward pass you need to place the gradients in positions of maximal values taken during the forward pass\n",
        "- In real frameworks the indices of maximums are stored in memory during the forward pass. It is cheaper than to keep the layer input in memory and recompute the maximums."
      ]
    },
    {
      "cell_type": "code",
      "execution_count": 112,
      "metadata": {
        "id": "gJr9EsefmzTd"
      },
      "outputs": [],
      "source": [
        "class MaxPool2d(Module):\n",
        "    def __init__(self, kernel_size):\n",
        "        super(MaxPool2d, self).__init__()\n",
        "        self.kernel_size = kernel_size\n",
        "        self.gradInput = None\n",
        "        # no stride because it woluld require a different implementation that reshaping due to overlaps\n",
        "\n",
        "    def updateOutput(self, input):\n",
        "        input_h, input_w = input.shape[-2:]\n",
        "        # your may remove these asserts and implement MaxPool2d with padding\n",
        "        #assert input_h % self.kernel_size == 0\n",
        "        #assert input_w % self.kernel_size == 0\n",
        "        # Reshape the input tensor\n",
        "        ip = input\n",
        "        hpad_size, wpad_size = 0, 0\n",
        "        # check the sizes match\n",
        "        if input_h % self.kernel_size != 0:\n",
        "            hpad_size = ((self.kernel_size - input_h % self.kernel_size) % self.kernel_size)//2\n",
        "        if input_w % self.kernel_size != 0:\n",
        "            wpad_size = ((self.kernel_size - input_w % self.kernel_size) % self.kernel_size)//2\n",
        "\n",
        "        print(hpad_size, wpad_size)\n",
        "\n",
        "        if hpad_size or hpad_size:\n",
        "            input = np.pad(input, ((0,0), (0,0), (hpad_size,hpad_size), (wpad_size,wpad_size)))\n",
        "        # new padded h and w\n",
        "        pad_input_h, pad_input_w = input.shape[-2:]\n",
        "        # reshape the input\n",
        "        input = input.reshape(input.shape[0], input.shape[1], pad_input_h // self.kernel_size, self.kernel_size, pad_input_w // self.kernel_size, self.kernel_size)\n",
        "        # Swap axes\n",
        "        input = np.swapaxes(input, 3, 4)\n",
        "        # Compute the output\n",
        "        self.output = np.amax(input, axis=(-1, -2))\n",
        "        # Store the indices of the maximum values\n",
        "        a = np.swapaxes(self.output[:,None, None], 3, 4)\n",
        "        b = a.reshape(1,1,2,2)\n",
        "        print(f\"b!!!:{b}, {b.shape}\", ip == b)\n",
        "        self.max_indices = np.amax(input, axis=(-1, -2))\n",
        "\n",
        "        return self.output\n",
        "\n",
        "\n",
        "    def updateGradInput(self, input, gradOutput):\n",
        "        # YOUR CODE #############################\n",
        "        # self.gradInput = ...\n",
        "        self.gradInput = np.zeros_like(input)\n",
        "        output_h, output_w = self.output.shape[-2:]\n",
        "        gradOutput = gradOutput.reshape(input.shape[0], input.shape[1], output_h, output_w)\n",
        "\n",
        "        for i in range(input.shape[0]):\n",
        "            for j in range(input.shape[1]):\n",
        "                for m in range(output_h):\n",
        "                    for n in range(output_w):\n",
        "                        max_indices = self.max_indices[i, j, m, n]\n",
        "                        self.gradInput[i, j, m*self.kernel_size + max_indices[0], n*self.kernel_size + max_indices[1]] = gradOutput[i, j, m, n]\n",
        "\n",
        "        return self.gradInput\n",
        "\n",
        "\n",
        "    def __repr__(self):\n",
        "        q = 'MaxPool2d, kern %d, stride %d' %(self.kernel_size, self.kernel_size)\n",
        "        return q"
      ]
    },
    {
      "cell_type": "code",
      "source": [
        "def e():\n",
        "    p = MaxPool2d(3)\n",
        "    out = p.updateOutput(np.arange(36).reshape(1,1,6,6))\n",
        "\n",
        "    np.arange(36).reshape(1,1,6,6), out, p.max_indices, p.gradInput"
      ],
      "metadata": {
        "colab": {
          "base_uri": "https://localhost:8080/",
          "height": 340
        },
        "id": "opQSC3DiTF3i",
        "outputId": "6692ecdd-8eca-43e0-d435-1569ec6ab97b"
      },
      "execution_count": 113,
      "outputs": [
        {
          "output_type": "stream",
          "name": "stdout",
          "text": [
            "0 0\n"
          ]
        },
        {
          "output_type": "error",
          "ename": "ValueError",
          "evalue": "operands could not be broadcast together with shapes (1,1,6,6) (1,1,2,2) ",
          "traceback": [
            "\u001b[0;31m---------------------------------------------------------------------------\u001b[0m",
            "\u001b[0;31mValueError\u001b[0m                                Traceback (most recent call last)",
            "\u001b[0;32m<ipython-input-113-3910a0a709ce>\u001b[0m in \u001b[0;36m<cell line: 2>\u001b[0;34m()\u001b[0m\n\u001b[1;32m      1\u001b[0m \u001b[0mp\u001b[0m \u001b[0;34m=\u001b[0m \u001b[0mMaxPool2d\u001b[0m\u001b[0;34m(\u001b[0m\u001b[0;36m3\u001b[0m\u001b[0;34m)\u001b[0m\u001b[0;34m\u001b[0m\u001b[0;34m\u001b[0m\u001b[0m\n\u001b[0;32m----> 2\u001b[0;31m \u001b[0mout\u001b[0m \u001b[0;34m=\u001b[0m \u001b[0mp\u001b[0m\u001b[0;34m.\u001b[0m\u001b[0mupdateOutput\u001b[0m\u001b[0;34m(\u001b[0m\u001b[0mnp\u001b[0m\u001b[0;34m.\u001b[0m\u001b[0marange\u001b[0m\u001b[0;34m(\u001b[0m\u001b[0;36m36\u001b[0m\u001b[0;34m)\u001b[0m\u001b[0;34m.\u001b[0m\u001b[0mreshape\u001b[0m\u001b[0;34m(\u001b[0m\u001b[0;36m1\u001b[0m\u001b[0;34m,\u001b[0m\u001b[0;36m1\u001b[0m\u001b[0;34m,\u001b[0m\u001b[0;36m6\u001b[0m\u001b[0;34m,\u001b[0m\u001b[0;36m6\u001b[0m\u001b[0;34m)\u001b[0m\u001b[0;34m)\u001b[0m\u001b[0;34m\u001b[0m\u001b[0;34m\u001b[0m\u001b[0m\n\u001b[0m\u001b[1;32m      3\u001b[0m \u001b[0;34m\u001b[0m\u001b[0m\n\u001b[1;32m      4\u001b[0m \u001b[0mnp\u001b[0m\u001b[0;34m.\u001b[0m\u001b[0marange\u001b[0m\u001b[0;34m(\u001b[0m\u001b[0;36m36\u001b[0m\u001b[0;34m)\u001b[0m\u001b[0;34m.\u001b[0m\u001b[0mreshape\u001b[0m\u001b[0;34m(\u001b[0m\u001b[0;36m1\u001b[0m\u001b[0;34m,\u001b[0m\u001b[0;36m1\u001b[0m\u001b[0;34m,\u001b[0m\u001b[0;36m6\u001b[0m\u001b[0;34m,\u001b[0m\u001b[0;36m6\u001b[0m\u001b[0;34m)\u001b[0m\u001b[0;34m,\u001b[0m \u001b[0mout\u001b[0m\u001b[0;34m,\u001b[0m \u001b[0mp\u001b[0m\u001b[0;34m.\u001b[0m\u001b[0mmax_indices\u001b[0m\u001b[0;34m,\u001b[0m \u001b[0mp\u001b[0m\u001b[0;34m.\u001b[0m\u001b[0mgradInput\u001b[0m\u001b[0;34m\u001b[0m\u001b[0;34m\u001b[0m\u001b[0m\n",
            "\u001b[0;32m<ipython-input-112-728cf530d94a>\u001b[0m in \u001b[0;36mupdateOutput\u001b[0;34m(self, input)\u001b[0m\n\u001b[1;32m     35\u001b[0m         \u001b[0ma\u001b[0m \u001b[0;34m=\u001b[0m \u001b[0mnp\u001b[0m\u001b[0;34m.\u001b[0m\u001b[0mswapaxes\u001b[0m\u001b[0;34m(\u001b[0m\u001b[0mself\u001b[0m\u001b[0;34m.\u001b[0m\u001b[0moutput\u001b[0m\u001b[0;34m[\u001b[0m\u001b[0;34m:\u001b[0m\u001b[0;34m,\u001b[0m\u001b[0;32mNone\u001b[0m\u001b[0;34m,\u001b[0m \u001b[0;32mNone\u001b[0m\u001b[0;34m]\u001b[0m\u001b[0;34m,\u001b[0m \u001b[0;36m3\u001b[0m\u001b[0;34m,\u001b[0m \u001b[0;36m4\u001b[0m\u001b[0;34m)\u001b[0m\u001b[0;34m\u001b[0m\u001b[0;34m\u001b[0m\u001b[0m\n\u001b[1;32m     36\u001b[0m         \u001b[0mb\u001b[0m \u001b[0;34m=\u001b[0m \u001b[0ma\u001b[0m\u001b[0;34m.\u001b[0m\u001b[0mreshape\u001b[0m\u001b[0;34m(\u001b[0m\u001b[0;36m1\u001b[0m\u001b[0;34m,\u001b[0m\u001b[0;36m1\u001b[0m\u001b[0;34m,\u001b[0m\u001b[0;36m2\u001b[0m\u001b[0;34m,\u001b[0m\u001b[0;36m2\u001b[0m\u001b[0;34m)\u001b[0m\u001b[0;34m\u001b[0m\u001b[0;34m\u001b[0m\u001b[0m\n\u001b[0;32m---> 37\u001b[0;31m         \u001b[0mprint\u001b[0m\u001b[0;34m(\u001b[0m\u001b[0;34mf\"b!!!:{b}, {b.shape}\"\u001b[0m\u001b[0;34m,\u001b[0m \u001b[0mip\u001b[0m \u001b[0;34m==\u001b[0m \u001b[0mb\u001b[0m\u001b[0;34m)\u001b[0m\u001b[0;34m\u001b[0m\u001b[0;34m\u001b[0m\u001b[0m\n\u001b[0m\u001b[1;32m     38\u001b[0m         \u001b[0mself\u001b[0m\u001b[0;34m.\u001b[0m\u001b[0mmax_indices\u001b[0m \u001b[0;34m=\u001b[0m \u001b[0mnp\u001b[0m\u001b[0;34m.\u001b[0m\u001b[0mamax\u001b[0m\u001b[0;34m(\u001b[0m\u001b[0minput\u001b[0m\u001b[0;34m,\u001b[0m \u001b[0maxis\u001b[0m\u001b[0;34m=\u001b[0m\u001b[0;34m(\u001b[0m\u001b[0;34m-\u001b[0m\u001b[0;36m1\u001b[0m\u001b[0;34m,\u001b[0m \u001b[0;34m-\u001b[0m\u001b[0;36m2\u001b[0m\u001b[0;34m)\u001b[0m\u001b[0;34m)\u001b[0m\u001b[0;34m\u001b[0m\u001b[0;34m\u001b[0m\u001b[0m\n\u001b[1;32m     39\u001b[0m \u001b[0;34m\u001b[0m\u001b[0m\n",
            "\u001b[0;31mValueError\u001b[0m: operands could not be broadcast together with shapes (1,1,6,6) (1,1,2,2) "
          ]
        }
      ]
    },
    {
      "cell_type": "markdown",
      "source": [],
      "metadata": {
        "id": "QKF4ZkFETOCO"
      }
    },
    {
      "cell_type": "code",
      "source": [
        "def g():\n",
        "    k = np.ones((1,1,3,3))\n",
        "    im = img.reshape(1,1,2,3,2,3)\n",
        "    im = np.swapaxes(im, 2,3)\n",
        "    im =  np.amax(im, axis=(4, 5))\n",
        "    img, im"
      ],
      "metadata": {
        "id": "2zeuIoJCTPLr"
      },
      "execution_count": null,
      "outputs": []
    },
    {
      "cell_type": "code",
      "source": [
        "def h():\n",
        "    im = img.reshape(1,1,2,3,2,3)\n",
        "    im = np.swapaxes(im, 2,3)\n",
        "    np.amax(im, axis=(4, 5))"
      ],
      "metadata": {
        "id": "XPiie6_kTPd0"
      },
      "execution_count": null,
      "outputs": []
    },
    {
      "cell_type": "markdown",
      "metadata": {
        "id": "1dDZxxEomzTf"
      },
      "source": [
        "### Flatten layer\n",
        "Just reshapes inputs and gradients. It's usually used as proxy layer between Conv2d and Linear."
      ]
    },
    {
      "cell_type": "code",
      "execution_count": 117,
      "metadata": {
        "id": "ngRmy_XAmzTg"
      },
      "outputs": [],
      "source": [
        "class Flatten(Module):\n",
        "    def __init__(self):\n",
        "         super(Flatten, self).__init__()\n",
        "\n",
        "    def updateOutput(self, input):\n",
        "        self.output = input.reshape(len(input), -1)\n",
        "        return self.output\n",
        "\n",
        "    def updateGradInput(self, input, gradOutput):\n",
        "        self.gradInput = gradOutput.reshape(input.shape)\n",
        "        return self.gradInput\n",
        "\n",
        "    def __repr__(self):\n",
        "        return \"Flatten\""
      ]
    }
  ],
  "metadata": {
    "kernelspec": {
      "display_name": "Py3 research env",
      "language": "python",
      "name": "py3_research"
    },
    "language_info": {
      "codemirror_mode": {
        "name": "ipython",
        "version": 3
      },
      "file_extension": ".py",
      "mimetype": "text/x-python",
      "name": "python",
      "nbconvert_exporter": "python",
      "pygments_lexer": "ipython3",
      "version": "3.6.7"
    },
    "colab": {
      "provenance": []
    }
  },
  "nbformat": 4,
  "nbformat_minor": 0
}