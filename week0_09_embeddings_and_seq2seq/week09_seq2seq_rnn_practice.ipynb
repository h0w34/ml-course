{
  "cells": [
    {
      "cell_type": "markdown",
      "metadata": {
        "id": "view-in-github",
        "colab_type": "text"
      },
      "source": [
        "<a href=\"https://colab.research.google.com/github/h0w34/ml-course/blob/master/week0_09_embeddings_and_seq2seq/week09_seq2seq_rnn_practice.ipynb\" target=\"_parent\"><img src=\"https://colab.research.google.com/assets/colab-badge.svg\" alt=\"Open In Colab\"/></a>"
      ]
    },
    {
      "cell_type": "markdown",
      "metadata": {
        "id": "tLPcRsU8Vmvg"
      },
      "source": [
        "## week10: seq2seq practice\n",
        "### Generating names with recurrent neural networks\n",
        "\n",
        "This time you'll find yourself delving into the heart (and other intestines) of recurrent neural networks on a class of toy problems.\n",
        "\n",
        "Struggle to find a name for the variable? Let's see how you'll come up with a name for your son/daughter. Surely no human has expertize over what is a good child name, so let us train RNN instead;\n",
        "\n",
        "It's dangerous to go alone, take these:"
      ]
    },
    {
      "cell_type": "code",
      "execution_count": 101,
      "metadata": {
        "id": "9VHWyQgfVmvh"
      },
      "outputs": [],
      "source": [
        "import numpy as np\n",
        "import matplotlib.pyplot as plt\n",
        "%matplotlib inline"
      ]
    },
    {
      "cell_type": "markdown",
      "metadata": {
        "id": "aEzLBs5YVmvk"
      },
      "source": [
        "# Our data\n",
        "The dataset contains ~8k earthling names from different cultures, all in latin transcript.\n",
        "\n",
        "This notebook has been designed so as to allow you to quickly swap names for something similar: deep learning article titles, IKEA furniture, pokemon names, etc."
      ]
    },
    {
      "cell_type": "code",
      "execution_count": 102,
      "metadata": {
        "id": "RZ2XI9pTVmvk",
        "outputId": "6c3a03b4-0d90-46e8-f9db-994ac0f0df42",
        "colab": {
          "base_uri": "https://localhost:8080/"
        }
      },
      "outputs": [
        {
          "output_type": "stream",
          "name": "stdout",
          "text": [
            "--2024-09-08 10:38:01--  https://raw.githubusercontent.com/girafe-ai/ml-course/22f_basic/week0_09_embeddings_and_seq2seq/names\n",
            "Resolving raw.githubusercontent.com (raw.githubusercontent.com)... 185.199.108.133, 185.199.109.133, 185.199.110.133, ...\n",
            "Connecting to raw.githubusercontent.com (raw.githubusercontent.com)|185.199.108.133|:443... connected.\n",
            "HTTP request sent, awaiting response... 200 OK\n",
            "Length: 55868 (55K) [text/plain]\n",
            "Saving to: ‘names’\n",
            "\n",
            "\rnames                 0%[                    ]       0  --.-KB/s               \rnames               100%[===================>]  54.56K  --.-KB/s    in 0.009s  \n",
            "\n",
            "2024-09-08 10:38:02 (6.16 MB/s) - ‘names’ saved [55868/55868]\n",
            "\n"
          ]
        }
      ],
      "source": [
        "# Uncomment this cell in Colab\n",
        "\n",
        "! wget https://raw.githubusercontent.com/girafe-ai/ml-course/22f_basic/week0_09_embeddings_and_seq2seq/names -O names"
      ]
    },
    {
      "cell_type": "code",
      "execution_count": 103,
      "metadata": {
        "id": "OmhcBhKPVmvk"
      },
      "outputs": [],
      "source": [
        "import os\n",
        "start_token = \" \"\n",
        "\n",
        "with open(\"names\") as f:\n",
        "    names = f.read()[:-1].split('\\n')\n",
        "    names = [start_token + line for line in names]"
      ]
    },
    {
      "cell_type": "code",
      "execution_count": 104,
      "metadata": {
        "id": "Hr6Va5NiVmvl",
        "outputId": "50af2d3f-5e12-4f39-e561-83fb26215261",
        "colab": {
          "base_uri": "https://localhost:8080/"
        }
      },
      "outputs": [
        {
          "output_type": "stream",
          "name": "stdout",
          "text": [
            "n samples =  7944\n",
            " Abagael\n",
            " Claresta\n",
            " Glory\n",
            " Liliane\n",
            " Prissie\n",
            " Geeta\n",
            " Giovanne\n",
            " Piggy\n"
          ]
        }
      ],
      "source": [
        "print ('n samples = ',len(names))\n",
        "for x in names[::1000]:\n",
        "    print (x)"
      ]
    },
    {
      "cell_type": "code",
      "execution_count": 105,
      "metadata": {
        "id": "BYoQ3rf0Vmvn",
        "outputId": "2398b188-8225-4be8-c92f-46fc13dd1ceb",
        "colab": {
          "base_uri": "https://localhost:8080/",
          "height": 470
        }
      },
      "outputs": [
        {
          "output_type": "stream",
          "name": "stdout",
          "text": [
            "max length = 16\n"
          ]
        },
        {
          "output_type": "display_data",
          "data": {
            "text/plain": [
              "<Figure size 640x480 with 1 Axes>"
            ],
            "image/png": "[encoded data removed]"
          },
          "metadata": {}
        }
      ],
      "source": [
        "MAX_LENGTH = max(map(len, names))\n",
        "print(\"max length =\", MAX_LENGTH)\n",
        "\n",
        "plt.title('Sequence length distribution')\n",
        "plt.hist(list(map(len, names)),bins=25);"
      ]
    },
    {
      "cell_type": "markdown",
      "metadata": {
        "id": "EUX_t7_RVmvn"
      },
      "source": [
        "# Text processing\n",
        "\n",
        "First we need next to collect a \"vocabulary\" of all unique tokens i.e. unique characters. We can then encode inputs as a sequence of character ids."
      ]
    },
    {
      "cell_type": "code",
      "execution_count": 106,
      "metadata": {
        "collapsed": true,
        "id": "ZS7dtaJgVmvo",
        "outputId": "49b38207-60b2-4d54-d52d-09c5a89cc2fe",
        "colab": {
          "base_uri": "https://localhost:8080/"
        }
      },
      "outputs": [
        {
          "output_type": "stream",
          "name": "stdout",
          "text": [
            "num_tokens =  55\n"
          ]
        }
      ],
      "source": [
        "#all unique characters go here\n",
        "tokens = set()\n",
        "for name in names:\n",
        "    tokens.update(set(name))\n",
        "\n",
        " #<all unique characters in the dataset>\n",
        "\n",
        "tokens = list(tokens)\n",
        "\n",
        "num_tokens = len(tokens)\n",
        "print ('num_tokens = ', num_tokens)\n",
        "\n",
        "assert 50 < num_tokens < 60, \"Names should contain within 50 and 60 unique tokens depending on encoding\""
      ]
    },
    {
      "cell_type": "markdown",
      "metadata": {
        "id": "mE-6A-uPVmvp"
      },
      "source": [
        "### Convert characters to integers\n",
        "\n",
        "Torch is built for crunching numbers, not strings.\n",
        "To train our neural network, we'll need to replace characters with their indices in tokens list.\n",
        "\n",
        "Let's compose a dictionary that does this mapping."
      ]
    },
    {
      "cell_type": "code",
      "execution_count": 107,
      "metadata": {
        "id": "A2q3dOLYVmvq"
      },
      "outputs": [],
      "source": [
        "token_to_id = {token: index for index, token in enumerate(tokens)}"
      ]
    },
    {
      "cell_type": "code",
      "source": [
        "token_to_id"
      ],
      "metadata": {
        "collapsed": true,
        "id": "CxdkJ2k1aPfl",
        "outputId": "96c6012d-897c-419b-c8e3-ca1d2d416599",
        "colab": {
          "base_uri": "https://localhost:8080/"
        }
      },
      "execution_count": 108,
      "outputs": [
        {
          "output_type": "execute_result",
          "data": {
            "text/plain": [
              "{'g': 0,\n",
              " 'n': 1,\n",
              " 'f': 2,\n",
              " 'I': 3,\n",
              " 'q': 4,\n",
              " 's': 5,\n",
              " 'H': 6,\n",
              " 'S': 7,\n",
              " 'p': 8,\n",
              " 'c': 9,\n",
              " 'x': 10,\n",
              " 'T': 11,\n",
              " 'G': 12,\n",
              " 'E': 13,\n",
              " \"'\": 14,\n",
              " 'w': 15,\n",
              " 'K': 16,\n",
              " 'W': 17,\n",
              " 'J': 18,\n",
              " 'F': 19,\n",
              " '-': 20,\n",
              " 'm': 21,\n",
              " 'P': 22,\n",
              " 'V': 23,\n",
              " 'B': 24,\n",
              " 'U': 25,\n",
              " 'k': 26,\n",
              " 'R': 27,\n",
              " 'b': 28,\n",
              " 'D': 29,\n",
              " 'Z': 30,\n",
              " 'N': 31,\n",
              " 'X': 32,\n",
              " 'e': 33,\n",
              " 'l': 34,\n",
              " 't': 35,\n",
              " 'A': 36,\n",
              " 'r': 37,\n",
              " 'z': 38,\n",
              " 'o': 39,\n",
              " 'v': 40,\n",
              " 'O': 41,\n",
              " 'j': 42,\n",
              " ' ': 43,\n",
              " 'y': 44,\n",
              " 'u': 45,\n",
              " 'a': 46,\n",
              " 'h': 47,\n",
              " 'i': 48,\n",
              " 'Q': 49,\n",
              " 'Y': 50,\n",
              " 'M': 51,\n",
              " 'C': 52,\n",
              " 'd': 53,\n",
              " 'L': 54}"
            ]
          },
          "metadata": {},
          "execution_count": 108
        }
      ]
    },
    {
      "cell_type": "code",
      "execution_count": 109,
      "metadata": {
        "id": "BlgmPBwMVmvs",
        "outputId": "1c15a839-45b5-48ea-e341-8cfffea8c7c0",
        "colab": {
          "base_uri": "https://localhost:8080/"
        }
      },
      "outputs": [
        {
          "output_type": "stream",
          "name": "stdout",
          "text": [
            "Seems alright!\n"
          ]
        }
      ],
      "source": [
        "assert len(tokens) == len(token_to_id), \"dictionaries must have same size\"\n",
        "\n",
        "for i in range(num_tokens):\n",
        "    assert token_to_id[tokens[i]] == i, \"token identifier must be it's position in tokens list\"\n",
        "\n",
        "print(\"Seems alright!\")"
      ]
    },
    {
      "cell_type": "code",
      "execution_count": 110,
      "metadata": {
        "id": "vL4YicEpVmvs"
      },
      "outputs": [],
      "source": [
        "def to_matrix(names, max_len=None, pad=token_to_id[' '], dtype='int32', batch_first = True):\n",
        "    \"\"\"Casts a list of names into rnn-digestable matrix\"\"\"\n",
        "\n",
        "    max_len = max_len or max(map(len, names))\n",
        "    names_ix = np.zeros([len(names), max_len], dtype) + pad\n",
        "\n",
        "    for i in range(len(names)):\n",
        "        line_ix = [token_to_id[c] for c in names[i]]\n",
        "        names_ix[i, :len(line_ix)] = line_ix\n",
        "\n",
        "    if not batch_first: # convert [batch, time] into [time, batch]\n",
        "        names_ix = np.transpose(names_ix)\n",
        "\n",
        "    return names_ix"
      ]
    },
    {
      "cell_type": "markdown",
      "source": [],
      "metadata": {
        "id": "vganaW-pdtbk"
      }
    },
    {
      "cell_type": "code",
      "execution_count": 111,
      "metadata": {
        "id": "SOcWjpeGVmvt",
        "outputId": "c4c24c7f-66c3-4af3-a7b9-d66cec72c763",
        "colab": {
          "base_uri": "https://localhost:8080/"
        }
      },
      "outputs": [
        {
          "output_type": "stream",
          "name": "stdout",
          "text": [
            " Abagael\n",
            " Glory\n",
            " Prissie\n",
            " Giovanne\n",
            "[[43 36 28 46  0 46 33 34 43]\n",
            " [43 12 34 39 37 44 43 43 43]\n",
            " [43 22 37 48  5  5 48 33 43]\n",
            " [43 12 48 39 40 46  1  1 33]]\n"
          ]
        }
      ],
      "source": [
        "#Example: cast 4 random names to matrices, pad with zeros\n",
        "print('\\n'.join(names[::2000]))\n",
        "print(to_matrix(names[::2000]))"
      ]
    },
    {
      "cell_type": "markdown",
      "metadata": {
        "id": "orEpb0C2Vmvt"
      },
      "source": [
        "# Recurrent neural network\n",
        "\n",
        "We can rewrite recurrent neural network as a consecutive application of dense layer to input $x_t$ and previous rnn state $h_t$. This is exactly what we're gonna do now.\n",
        "<img src=\"https://github.com/h0w34/ml-course/blob/master/week0_09_embeddings_and_seq2seq/rnn.png?raw=1\" width=480>\n",
        "\n",
        "Since we're training a language model, there should also be:\n",
        "* An embedding layer that converts character id x_t to a vector.\n",
        "* An output layer that predicts probabilities of next phoneme"
      ]
    },
    {
      "cell_type": "code",
      "execution_count": 112,
      "metadata": {
        "id": "zfLDa3OlVmvu"
      },
      "outputs": [],
      "source": [
        "import torch, torch.nn as nn\n",
        "import torch.nn.functional as F"
      ]
    },
    {
      "cell_type": "code",
      "execution_count": 113,
      "metadata": {
        "id": "wHFVbeCYVmvu"
      },
      "outputs": [],
      "source": [
        "class CharRNNCell(nn.Module):\n",
        "    \"\"\"\n",
        "    Implement the scheme above as torch module\n",
        "    \"\"\"\n",
        "    def __init__(self, num_tokens=len(tokens), embedding_size=16, rnn_num_units=64):\n",
        "        super(self.__class__,self).__init__()\n",
        "        self.num_units = rnn_num_units\n",
        "\n",
        "        self.embedding = nn.Embedding(num_tokens, embedding_size)\n",
        "        self.rnn_update = nn.Linear(embedding_size + rnn_num_units, rnn_num_units) # Hidden layer\n",
        "        self.rnn_to_logits = nn.Linear(rnn_num_units, num_tokens) # W_output\n",
        "\n",
        "    def forward(self, x, h_prev):\n",
        "        \"\"\"\n",
        "        This method computes h_next(x, h_prev) and log P(x_next | h_next)\n",
        "        We'll call it repeatedly to produce the whole sequence.\n",
        "\n",
        "        :param x: batch of character ids, containing vector of int64\n",
        "        :param h_prev: previous rnn hidden states, containing matrix [batch, rnn_num_units] of float32\n",
        "        \"\"\"\n",
        "        # get vector embedding of x\n",
        "        x_emb = self.embedding(x)\n",
        "\n",
        "        # compute next hidden state using self.rnn_update\n",
        "        # hint: use torch.cat(..., dim=...) for concatenation\n",
        "        x_and_h = torch.cat([x_emb, h_prev], dim=-1)#YOUR CODE HERE\n",
        "        h_next = self.rnn_update(x_and_h)#YOUR CODE HERE\n",
        "\n",
        "        h_next = torch.tanh(h_next)#YOUR CODE HERE\n",
        "\n",
        "        assert h_next.size() == h_prev.size()\n",
        "\n",
        "        #compute logits for next character probs\n",
        "        logits = self.rnn_to_logits(h_next)\n",
        "\n",
        "        return h_next, F.log_softmax(logits, -1)\n",
        "\n",
        "    def initial_state(self, batch_size):\n",
        "        \"\"\" return rnn state before it processes first input (aka h0) \"\"\"\n",
        "        return torch.zeros(batch_size, self.num_units, requires_grad=True)"
      ]
    },
    {
      "cell_type": "code",
      "execution_count": 114,
      "metadata": {
        "id": "CJ-LMnySVmvv"
      },
      "outputs": [],
      "source": [
        "char_rnn = CharRNNCell()"
      ]
    },
    {
      "cell_type": "markdown",
      "metadata": {
        "id": "iJdHcddpVmvv"
      },
      "source": [
        "### RNN loop\n",
        "\n",
        "Once we've defined a single RNN step, we can apply it in a loop to get predictions on each step."
      ]
    },
    {
      "cell_type": "code",
      "execution_count": 115,
      "metadata": {
        "id": "mn5l9iQ4Vmvv"
      },
      "outputs": [],
      "source": [
        "def rnn_loop(char_rnn, batch_ix):\n",
        "    \"\"\"\n",
        "    Computes log P(next_character) for all time-steps in names_ix\n",
        "    :param names_ix: an int32 matrix of shape [batch, time], output of to_matrix(names)\n",
        "    \"\"\"\n",
        "    batch_size, max_length = batch_ix.size()\n",
        "    hid_state = char_rnn.initial_state(batch_size)\n",
        "    logprobs = []\n",
        "\n",
        "    for x_t in batch_ix.transpose(0,1):\n",
        "        hid_state, logp_next = char_rnn(x_t, hid_state)  # <-- here we call your one-step code\n",
        "        logprobs.append(logp_next)\n",
        "\n",
        "    return torch.stack(logprobs, dim=1)"
      ]
    },
    {
      "cell_type": "code",
      "execution_count": 116,
      "metadata": {
        "id": "O6TS4EWxVmvw"
      },
      "outputs": [],
      "source": [
        "batch_ix = to_matrix(names[:5])\n",
        "batch_ix = torch.tensor(batch_ix, dtype=torch.int64)\n",
        "\n",
        "logp_seq = rnn_loop(char_rnn, batch_ix)\n",
        "\n",
        "assert torch.max(logp_seq).data.numpy() <= 0\n",
        "assert tuple(logp_seq.size()) ==  batch_ix.shape + (num_tokens,)"
      ]
    },
    {
      "cell_type": "markdown",
      "metadata": {
        "id": "NjWbezjUVmvw"
      },
      "source": [
        "### Likelihood and gradients\n",
        "\n",
        "We can now train our neural network to minimize crossentropy (maximize log-likelihood) with the actual next tokens.\n",
        "\n",
        "To do so in a vectorized manner, we take `batch_ix[:, 1:]` - a matrix of token ids shifted i step to the left so i-th element is acutally the \"next token\" for i-th prediction"
      ]
    },
    {
      "cell_type": "markdown",
      "source": [],
      "metadata": {
        "id": "lmbdd4oIrSR6"
      }
    },
    {
      "cell_type": "code",
      "execution_count": 117,
      "metadata": {
        "id": "gAwQGgczVmvw"
      },
      "outputs": [],
      "source": [
        "predictions_logp = logp_seq[:, :-1]\n",
        "actual_next_tokens = batch_ix[:, 1:]\n",
        "\n",
        "logp_next = torch.gather(predictions_logp, dim=2, index=actual_next_tokens[:,:,None])\n",
        "\n",
        "loss = -logp_next.mean()"
      ]
    },
    {
      "cell_type": "code",
      "execution_count": 118,
      "metadata": {
        "id": "yuL-aWLNVmvw"
      },
      "outputs": [],
      "source": [
        "loss.backward()"
      ]
    },
    {
      "cell_type": "code",
      "execution_count": 119,
      "metadata": {
        "id": "7D2ah5U6Vmv7"
      },
      "outputs": [],
      "source": [
        "for w in char_rnn.parameters():\n",
        "    assert w.grad is not None and torch.max(torch.abs(w.grad)).data.numpy() != 0, \\\n",
        "        \"Loss is not differentiable w.r.t. a weight with shape %s. Check forward method.\" % (w.size(),)"
      ]
    },
    {
      "cell_type": "markdown",
      "metadata": {
        "id": "L2tf8jM8Vmv8"
      },
      "source": [
        "### The training loop\n",
        "\n",
        "We train our char-rnn exactly the same way we train any deep learning model: by minibatch sgd.\n",
        "\n",
        "The only difference is that this time we sample strings, not images or sound."
      ]
    },
    {
      "cell_type": "code",
      "execution_count": 124,
      "metadata": {
        "id": "DtxY_tSAVmv9"
      },
      "outputs": [],
      "source": [
        "from IPython.display import clear_output\n",
        "from random import sample\n",
        "\n",
        "char_rnn = CharRNNCell()\n",
        "opt = torch.optim.Adam(char_rnn.parameters())\n",
        "history = []"
      ]
    },
    {
      "cell_type": "code",
      "execution_count": 125,
      "metadata": {
        "id": "z5wKfaiJVmv9",
        "outputId": "5cb91eee-3ca4-40bf-8c22-0c5523651b48",
        "colab": {
          "base_uri": "https://localhost:8080/",
          "height": 430
        }
      },
      "outputs": [
        {
          "output_type": "display_data",
          "data": {
            "text/plain": [
              "<Figure size 640x480 with 1 Axes>"
            ],
            "image/png": "[encoded data removed]"
          },
          "metadata": {}
        }
      ],
      "source": [
        "MAX_LENGTH = 16\n",
        "\n",
        "for i in range(1000):\n",
        "    batch_ix = to_matrix(sample(names, 32), max_len=MAX_LENGTH)\n",
        "    batch_ix = torch.tensor(batch_ix, dtype=torch.int64)\n",
        "\n",
        "    logp_seq = rnn_loop(char_rnn, batch_ix)\n",
        "\n",
        "    # compute loss\n",
        "    #<YOUR CODE>\n",
        "    predictions_logp = logp_seq[:, :-1] #<YOUR CODE>\n",
        "    actual_next_tokens = batch_ix[:, 1:] #<YOUR CODE>\n",
        "\n",
        "    logp_next = torch.gather(predictions_logp, dim=2, index=actual_next_tokens[:,:,None])\n",
        "\n",
        "    loss = -logp_next.mean()###YOUR CODE\n",
        "\n",
        "    # train with backprop\n",
        "    opt.zero_grad()\n",
        "    loss.backward()\n",
        "    opt.step()\n",
        "    #<YOUR CODE>\n",
        "\n",
        "    history.append(loss.data.numpy())\n",
        "    if (i+1)%100==0:\n",
        "        clear_output(True)\n",
        "        plt.plot(history,label='loss')\n",
        "        plt.legend()\n",
        "        plt.show()\n",
        "\n",
        "assert np.mean(history[:10]) > np.mean(history[-10:]), \"RNN didn't converge.\""
      ]
    },
    {
      "cell_type": "markdown",
      "metadata": {
        "id": "WNAQzOn1Vmv9"
      },
      "source": [
        "### RNN: sampling\n",
        "Once we've trained our network a bit, let's get to actually generating stuff.\n",
        "All we need is the single rnn step function you have defined in `char_rnn.forward`."
      ]
    },
    {
      "cell_type": "code",
      "execution_count": 126,
      "metadata": {
        "id": "9so1zOrCVmv-"
      },
      "outputs": [],
      "source": [
        "def generate_sample(char_rnn, seed_phrase=' ', max_length=MAX_LENGTH, temperature=1.0):\n",
        "    '''\n",
        "    The function generates text given a phrase of length at least SEQ_LENGTH.\n",
        "    :param seed_phrase: prefix characters. The RNN is asked to continue the phrase\n",
        "    :param max_length: maximum output length, including seed_phrase\n",
        "    :param temperature: coefficient for sampling.  higher temperature produces more chaotic outputs,\n",
        "                        smaller temperature converges to the single most likely output\n",
        "    '''\n",
        "\n",
        "    x_sequence = [token_to_id[token] for token in seed_phrase]\n",
        "    x_sequence = torch.tensor([x_sequence], dtype=torch.int64)\n",
        "    hid_state = char_rnn.initial_state(batch_size=1)\n",
        "\n",
        "    #feed the seed phrase, if any\n",
        "    for i in range(len(seed_phrase) - 1):\n",
        "        hid_state, _ = char_rnn(x_sequence[:, i], hid_state)\n",
        "\n",
        "    #start generating\n",
        "    for _ in range(max_length - len(seed_phrase)):\n",
        "        hid_state, logp_next = char_rnn(x_sequence[:, -1], hid_state)\n",
        "        p_next = F.softmax(logp_next / temperature, dim=-1).data.numpy()[0]\n",
        "\n",
        "        # sample next token and push it back into x_sequence\n",
        "        next_ix = np.random.choice(num_tokens,p=p_next)\n",
        "        next_ix = torch.tensor([[next_ix]], dtype=torch.int64)\n",
        "        x_sequence = torch.cat([x_sequence, next_ix], dim=1)\n",
        "\n",
        "    return ''.join([tokens[ix] for ix in x_sequence.data.numpy()[0]])"
      ]
    },
    {
      "cell_type": "code",
      "execution_count": 127,
      "metadata": {
        "id": "HTfcAnwXVmv-",
        "outputId": "b36863e9-3d49-4fde-c2af-634555b1a327",
        "colab": {
          "base_uri": "https://localhost:8080/"
        }
      },
      "outputs": [
        {
          "output_type": "stream",
          "name": "stdout",
          "text": [
            " Zouseui        \n",
            " Bera           \n",
            " Ronaleonlle    \n",
            " Bofite         \n",
            " Kathiery       \n",
            " Adanarineonel  \n",
            " Adoy           \n",
            " Khanalle       \n",
            " Sillanalh      \n",
            " Jelartid       \n"
          ]
        }
      ],
      "source": [
        "for _ in range(10):\n",
        "    print(generate_sample(char_rnn))"
      ]
    },
    {
      "cell_type": "code",
      "execution_count": 128,
      "metadata": {
        "id": "jFEEWYOpVmv-",
        "outputId": "e8b5540f-c2ad-4e86-e271-6ac12ef4452d",
        "colab": {
          "base_uri": "https://localhost:8080/"
        }
      },
      "outputs": [
        {
          "output_type": "stream",
          "name": "stdout",
          "text": [
            " Sherlia        \n",
            " Sherli         \n",
            " Sherlnuenn     \n",
            " Sherley        \n",
            " Sherlia        \n",
            " Sherlad        \n",
            " Sherle         \n",
            " Sherlyc        \n",
            " Sherlea        \n",
            " Sherlege       \n",
            " Sherlie        \n",
            " Sherlarine     \n",
            " Sherlisse      \n",
            " Sherlora       \n",
            " Sherlea        \n",
            " Sherlie        \n",
            " Sherlinsie     \n",
            " Sherlao        \n",
            " Sherlid        \n",
            " Sherlee        \n",
            " Sherlent       \n",
            " Sherlere       \n",
            " Sherley        \n",
            " Sherliea       \n",
            " Sherly         \n",
            " Sherlinne      \n",
            " Sherle         \n",
            " Sherlane       \n",
            " Sherle         \n",
            " Sherlie        \n",
            " Sherl          \n",
            " Sherlon        \n",
            " Sherly         \n",
            " Sherlian m     \n",
            " Sherlves       \n",
            " Sherlie        \n",
            " Sherlerce      \n",
            " Sherlys        \n",
            " Sherlint       \n",
            " Sherliero      \n",
            " Sherlennasa    \n",
            " Sherlir        \n",
            " Sherlynan      \n",
            " Sherlolauh     \n",
            " Sherlla        \n",
            " Sherlline      \n",
            " Sherlllilen    \n",
            " Sherled        \n",
            " Sherlonde      \n",
            " Sherla         \n"
          ]
        }
      ],
      "source": [
        "for _ in range(50):\n",
        "    print(generate_sample(char_rnn, seed_phrase=' Sherl'))"
      ]
    },
    {
      "cell_type": "markdown",
      "metadata": {
        "collapsed": true,
        "id": "XseFOanfVmv_"
      },
      "source": [
        "### More seriously\n",
        "\n",
        "What we just did is a manual low-level implementation of RNN. While it's cool, i guess you won't like the idea of re-writing it from scratch on every occasion.\n",
        "\n",
        "As you might have guessed, torch has a solution for this. To be more specific, there are two options:\n",
        "* `nn.RNNCell(emb_size, rnn_num_units)` - implements a single step of RNN just like you did. Basically concat-linear-tanh\n",
        "* `nn.RNN(emb_size, rnn_num_units` - implements the whole rnn_loop for you.\n",
        "\n",
        "There's also `nn.LSTMCell` vs `nn.LSTM`, `nn.GRUCell` vs `nn.GRU`, etc. etc.\n",
        "\n",
        "In this example we'll rewrite the char_rnn and rnn_loop using high-level rnn API."
      ]
    },
    {
      "cell_type": "code",
      "execution_count": 121,
      "metadata": {
        "id": "dGWk3FXPVmv_"
      },
      "outputs": [],
      "source": [
        "class CharRNNLoop(nn.Module):\n",
        "    def __init__(self, num_tokens=num_tokens, emb_size=16, rnn_num_units=64):\n",
        "        super(self.__class__, self).__init__()\n",
        "        self.emb = nn.Embedding(num_tokens, emb_size)\n",
        "        self.rnn = nn.RNN(emb_size, rnn_num_units, batch_first=True)\n",
        "        self.hid_to_logits = nn.Linear(rnn_num_units, num_tokens)\n",
        "\n",
        "    def forward(self, x):\n",
        "        assert isinstance(x.data, torch.LongTensor)\n",
        "        h_seq, _ = self.rnn(self.emb(x))\n",
        "        next_logits = self.hid_to_logits(h_seq)\n",
        "        next_logp = F.log_softmax(next_logits, dim=-1)\n",
        "        return next_logp\n",
        "\n",
        "model = CharRNNLoop()\n",
        "opt = torch.optim.Adam(model.parameters())\n",
        "history = []"
      ]
    },
    {
      "cell_type": "code",
      "execution_count": 122,
      "metadata": {
        "id": "4KYcL0HKVmv_",
        "outputId": "142b77a5-67a5-4eb9-b85c-2eabae8bbd46",
        "colab": {
          "base_uri": "https://localhost:8080/"
        }
      },
      "outputs": [
        {
          "output_type": "execute_result",
          "data": {
            "text/plain": [
              "torch.Size([32, 16, 55])"
            ]
          },
          "metadata": {},
          "execution_count": 122
        }
      ],
      "source": [
        "# the model applies over the whole sequence\n",
        "batch_ix = to_matrix(sample(names, 32), max_len=MAX_LENGTH)\n",
        "batch_ix = torch.LongTensor(batch_ix)\n",
        "\n",
        "logp_seq = model(batch_ix)\n",
        "logp_seq.size()\n",
        "# compute loss.\n",
        "loss = F.nll_loss(logp_seq[:, 1:].contiguous().view(-1, num_tokens),\n",
        "                  batch_ix[:, :-1].contiguous().view(-1))\n",
        "\n",
        "loss.backward()"
      ]
    },
    {
      "cell_type": "code",
      "execution_count": 132,
      "metadata": {
        "id": "ZBz3z1I7VmwA",
        "outputId": "761a0f68-4cc3-45dd-9203-ae2403c49284",
        "colab": {
          "base_uri": "https://localhost:8080/",
          "height": 430
        }
      },
      "outputs": [
        {
          "output_type": "display_data",
          "data": {
            "text/plain": [
              "<Figure size 640x480 with 1 Axes>"
            ],
            "image/png": "[encoded data removed]"
          },
          "metadata": {}
        }
      ],
      "source": [
        "model = CharRNNLoop()\n",
        "opt = torch.optim.Adam(model.parameters())\n",
        "history = []\n",
        "\n",
        "MAX_LENGTH = 16\n",
        "\n",
        "for i in range(1000):\n",
        "    batch_ix = to_matrix(sample(names, 32), max_len=MAX_LENGTH)\n",
        "    batch_ix = torch.tensor(batch_ix, dtype=torch.int64)\n",
        "\n",
        "    logp_seq = model(batch_ix)\n",
        "\n",
        "    # compute loss\n",
        "    #<YOUR CODE>\n",
        "\n",
        "    predictions_logp = logp_seq[:, :-1] #<YOUR CODE>\n",
        "    actual_next_tokens = batch_ix[:, 1:] #<YOUR CODE>\n",
        "\n",
        "    loss = F.nll_loss(logp_seq[:, 1:].contiguous().view(-1, num_tokens),\n",
        "                  batch_ix[:, :-1].contiguous().view(-1))\n",
        "\n",
        "    # train with backprop\n",
        "\n",
        "    opt.zero_grad()\n",
        "    loss.backward()\n",
        "    opt.step()\n",
        "\n",
        "    history.append(loss.data.numpy())\n",
        "    if (i+1)%100==0:\n",
        "        clear_output(True)\n",
        "        plt.plot(history,label='loss')\n",
        "        plt.legend()\n",
        "        plt.show()\n",
        "\n",
        "assert np.mean(history[:10]) > np.mean(history[-10:]), \"RNN didn't converge.\""
      ]
    },
    {
      "cell_type": "markdown",
      "metadata": {
        "id": "WxosJ14gVmwB"
      },
      "source": [
        "### To sum up:\n",
        "- PyTorch is convenient both for prototyping and production\n",
        "- There are a lot of pre-implemented methods/layers/activations out of the box\n",
        "- It's much easier (*really easier*) to use PyTorch than TensorFlow on entry level.\n",
        "- Neural networks are not *black boxes*, they are pretty nice and easy to use (almost always)."
      ]
    },
    {
      "cell_type": "markdown",
      "metadata": {
        "id": "AQVD5w-OVmwB"
      },
      "source": [
        "### Try it out!\n",
        "You've just implemented a recurrent language model that can be tasked with generating any kind of sequence, so there's plenty of data you can try it on:\n",
        "\n",
        "* Novels/poems/songs of your favorite author\n",
        "* News titles/clickbait titles\n",
        "* Source code of Linux or Tensorflow\n",
        "* Molecules in [smiles](https://en.wikipedia.org/wiki/Simplified_molecular-input_line-entry_system) format\n",
        "* Melody in notes/chords format\n",
        "* Ikea catalog titles\n",
        "* Pokemon names\n",
        "* Cards from Magic, the Gathering / Hearthstone\n",
        "\n",
        "If you're willing to give it a try, here's what you wanna look at:\n",
        "* Current data format is a sequence of lines, so a novel can be formatted as a list of sentences. Alternatively, you can change data preprocessing altogether.\n",
        "* While some datasets are readily available, others can only be scraped from the web. Try `Selenium` or `Scrapy` for that.\n",
        "* Make sure MAX_LENGTH is adjusted for longer datasets. There's also a bonus section about dynamic RNNs at the bottom.\n",
        "* More complex tasks require larger RNN architecture, try more neurons or several layers. It would also require more training iterations.\n",
        "* Long-term dependencies in music, novels or molecules are better handled with LSTM or GRU\n",
        "\n",
        "__Good hunting!__"
      ]
    }
  ],
  "metadata": {
    "kernelspec": {
      "display_name": "Python 3",
      "language": "python",
      "name": "python3"
    },
    "language_info": {
      "codemirror_mode": {
        "name": "ipython",
        "version": 3
      },
      "file_extension": ".py",
      "mimetype": "text/x-python",
      "name": "python",
      "nbconvert_exporter": "python",
      "pygments_lexer": "ipython3",
      "version": "3.7.3"
    },
    "colab": {
      "provenance": [],
      "include_colab_link": true
    }
  },
  "nbformat": 4,
  "nbformat_minor": 0
}